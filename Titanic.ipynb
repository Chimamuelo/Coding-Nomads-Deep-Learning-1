{
  "cells": [
    {
      "cell_type": "markdown",
      "metadata": {
        "id": "TppBhRBlJDVY"
      },
      "source": [
        "# Data Loading and Splitting"
      ]
    },
    {
      "cell_type": "markdown",
      "metadata": {
        "id": "oi-C2we-Jm62"
      },
      "source": [
        "## Setup"
      ]
    },
    {
      "cell_type": "code",
      "execution_count": null,
      "metadata": {
        "id": "P5FvTFcbJdXa"
      },
      "outputs": [],
      "source": [
        "!pip install torchmetrics attrdict -q"
      ]
    },
    {
      "cell_type": "code",
      "execution_count": null,
      "metadata": {
        "id": "jiMUo9UNJbQ8"
      },
      "outputs": [],
      "source": [
        "%%capture\n",
        "# Install libraries\n",
        "from sklearn.model_selection import train_test_split\n",
        "import pandas as pd\n",
        "import matplotlib.pyplot as plt\n",
        "import seaborn as sns\n",
        "import torchmetrics"
      ]
    },
    {
      "cell_type": "markdown",
      "metadata": {
        "id": "hzPonF2gJSGJ"
      },
      "source": [
        "## Download the dataset"
      ]
    },
    {
      "cell_type": "code",
      "execution_count": null,
      "metadata": {
        "id": "zU6xhRJeqW6u"
      },
      "outputs": [],
      "source": [
        "df=pd.read_csv('https://raw.githubusercontent.com/Chimamuelo/Coding-Nomads-Deep-Learning-1/master/Data/train.csv')\n",
        "df_test=pd.read_csv('https://raw.githubusercontent.com/Chimamuelo/Coding-Nomads-Deep-Learning-1/master/Data/test.csv')"
      ]
    },
    {
      "cell_type": "markdown",
      "metadata": {
        "id": "Ub5Kk1R8JUGh"
      },
      "source": [
        "## Split your data"
      ]
    },
    {
      "cell_type": "code",
      "execution_count": null,
      "metadata": {
        "id": "IndTO6FoqYHJ"
      },
      "outputs": [],
      "source": [
        "train=df.loc[:,df.columns!='Survived']\n",
        "valid=df['Survived']"
      ]
    },
    {
      "cell_type": "markdown",
      "metadata": {
        "id": "FeNWY55nK_BL"
      },
      "source": [
        "# EDA & data visualization"
      ]
    },
    {
      "cell_type": "code",
      "execution_count": null,
      "metadata": {
        "colab": {
          "base_uri": "https://localhost:8080/"
        },
        "id": "C5LTCMdzLZcu",
        "outputId": "e1a35baf-8b44-4dae-8763-b1282914e2c0"
      },
      "outputs": [
        {
          "name": "stdout",
          "output_type": "stream",
          "text": [
            "(891, 11)\n",
            "(891,)\n"
          ]
        }
      ],
      "source": [
        "print(train.shape)\n",
        "print(valid.shape)"
      ]
    },
    {
      "cell_type": "code",
      "execution_count": null,
      "metadata": {
        "colab": {
          "base_uri": "https://localhost:8080/",
          "height": 206
        },
        "id": "L6typy1M2mwb",
        "outputId": "49ef8704-7a75-4772-d1aa-3df691734913"
      },
      "outputs": [
        {
          "data": {
            "text/html": [
              "\n",
              "  <div id=\"df-fe413ba0-915a-4ed0-994d-733c44ce7947\">\n",
              "    <div class=\"colab-df-container\">\n",
              "      <div>\n",
              "<style scoped>\n",
              "    .dataframe tbody tr th:only-of-type {\n",
              "        vertical-align: middle;\n",
              "    }\n",
              "\n",
              "    .dataframe tbody tr th {\n",
              "        vertical-align: top;\n",
              "    }\n",
              "\n",
              "    .dataframe thead th {\n",
              "        text-align: right;\n",
              "    }\n",
              "</style>\n",
              "<table border=\"1\" class=\"dataframe\">\n",
              "  <thead>\n",
              "    <tr style=\"text-align: right;\">\n",
              "      <th></th>\n",
              "      <th>PassengerId</th>\n",
              "      <th>Pclass</th>\n",
              "      <th>Name</th>\n",
              "      <th>Sex</th>\n",
              "      <th>Age</th>\n",
              "      <th>SibSp</th>\n",
              "      <th>Parch</th>\n",
              "      <th>Ticket</th>\n",
              "      <th>Fare</th>\n",
              "      <th>Cabin</th>\n",
              "      <th>Embarked</th>\n",
              "    </tr>\n",
              "  </thead>\n",
              "  <tbody>\n",
              "    <tr>\n",
              "      <th>0</th>\n",
              "      <td>1</td>\n",
              "      <td>3</td>\n",
              "      <td>Braund, Mr. Owen Harris</td>\n",
              "      <td>male</td>\n",
              "      <td>22.0</td>\n",
              "      <td>1</td>\n",
              "      <td>0</td>\n",
              "      <td>A/5 21171</td>\n",
              "      <td>7.2500</td>\n",
              "      <td>NaN</td>\n",
              "      <td>S</td>\n",
              "    </tr>\n",
              "    <tr>\n",
              "      <th>1</th>\n",
              "      <td>2</td>\n",
              "      <td>1</td>\n",
              "      <td>Cumings, Mrs. John Bradley (Florence Briggs Th...</td>\n",
              "      <td>female</td>\n",
              "      <td>38.0</td>\n",
              "      <td>1</td>\n",
              "      <td>0</td>\n",
              "      <td>PC 17599</td>\n",
              "      <td>71.2833</td>\n",
              "      <td>C85</td>\n",
              "      <td>C</td>\n",
              "    </tr>\n",
              "    <tr>\n",
              "      <th>2</th>\n",
              "      <td>3</td>\n",
              "      <td>3</td>\n",
              "      <td>Heikkinen, Miss. Laina</td>\n",
              "      <td>female</td>\n",
              "      <td>26.0</td>\n",
              "      <td>0</td>\n",
              "      <td>0</td>\n",
              "      <td>STON/O2. 3101282</td>\n",
              "      <td>7.9250</td>\n",
              "      <td>NaN</td>\n",
              "      <td>S</td>\n",
              "    </tr>\n",
              "    <tr>\n",
              "      <th>3</th>\n",
              "      <td>4</td>\n",
              "      <td>1</td>\n",
              "      <td>Futrelle, Mrs. Jacques Heath (Lily May Peel)</td>\n",
              "      <td>female</td>\n",
              "      <td>35.0</td>\n",
              "      <td>1</td>\n",
              "      <td>0</td>\n",
              "      <td>113803</td>\n",
              "      <td>53.1000</td>\n",
              "      <td>C123</td>\n",
              "      <td>S</td>\n",
              "    </tr>\n",
              "    <tr>\n",
              "      <th>4</th>\n",
              "      <td>5</td>\n",
              "      <td>3</td>\n",
              "      <td>Allen, Mr. William Henry</td>\n",
              "      <td>male</td>\n",
              "      <td>35.0</td>\n",
              "      <td>0</td>\n",
              "      <td>0</td>\n",
              "      <td>373450</td>\n",
              "      <td>8.0500</td>\n",
              "      <td>NaN</td>\n",
              "      <td>S</td>\n",
              "    </tr>\n",
              "  </tbody>\n",
              "</table>\n",
              "</div>\n",
              "      <button class=\"colab-df-convert\" onclick=\"convertToInteractive('df-fe413ba0-915a-4ed0-994d-733c44ce7947')\"\n",
              "              title=\"Convert this dataframe to an interactive table.\"\n",
              "              style=\"display:none;\">\n",
              "        \n",
              "  <svg xmlns=\"http://www.w3.org/2000/svg\" height=\"24px\"viewBox=\"0 0 24 24\"\n",
              "       width=\"24px\">\n",
              "    <path d=\"M0 0h24v24H0V0z\" fill=\"none\"/>\n",
              "    <path d=\"M18.56 5.44l.94 2.06.94-2.06 2.06-.94-2.06-.94-.94-2.06-.94 2.06-2.06.94zm-11 1L8.5 8.5l.94-2.06 2.06-.94-2.06-.94L8.5 2.5l-.94 2.06-2.06.94zm10 10l.94 2.06.94-2.06 2.06-.94-2.06-.94-.94-2.06-.94 2.06-2.06.94z\"/><path d=\"M17.41 7.96l-1.37-1.37c-.4-.4-.92-.59-1.43-.59-.52 0-1.04.2-1.43.59L10.3 9.45l-7.72 7.72c-.78.78-.78 2.05 0 2.83L4 21.41c.39.39.9.59 1.41.59.51 0 1.02-.2 1.41-.59l7.78-7.78 2.81-2.81c.8-.78.8-2.07 0-2.86zM5.41 20L4 18.59l7.72-7.72 1.47 1.35L5.41 20z\"/>\n",
              "  </svg>\n",
              "      </button>\n",
              "      \n",
              "  <style>\n",
              "    .colab-df-container {\n",
              "      display:flex;\n",
              "      flex-wrap:wrap;\n",
              "      gap: 12px;\n",
              "    }\n",
              "\n",
              "    .colab-df-convert {\n",
              "      background-color: #E8F0FE;\n",
              "      border: none;\n",
              "      border-radius: 50%;\n",
              "      cursor: pointer;\n",
              "      display: none;\n",
              "      fill: #1967D2;\n",
              "      height: 32px;\n",
              "      padding: 0 0 0 0;\n",
              "      width: 32px;\n",
              "    }\n",
              "\n",
              "    .colab-df-convert:hover {\n",
              "      background-color: #E2EBFA;\n",
              "      box-shadow: 0px 1px 2px rgba(60, 64, 67, 0.3), 0px 1px 3px 1px rgba(60, 64, 67, 0.15);\n",
              "      fill: #174EA6;\n",
              "    }\n",
              "\n",
              "    [theme=dark] .colab-df-convert {\n",
              "      background-color: #3B4455;\n",
              "      fill: #D2E3FC;\n",
              "    }\n",
              "\n",
              "    [theme=dark] .colab-df-convert:hover {\n",
              "      background-color: #434B5C;\n",
              "      box-shadow: 0px 1px 3px 1px rgba(0, 0, 0, 0.15);\n",
              "      filter: drop-shadow(0px 1px 2px rgba(0, 0, 0, 0.3));\n",
              "      fill: #FFFFFF;\n",
              "    }\n",
              "  </style>\n",
              "\n",
              "      <script>\n",
              "        const buttonEl =\n",
              "          document.querySelector('#df-fe413ba0-915a-4ed0-994d-733c44ce7947 button.colab-df-convert');\n",
              "        buttonEl.style.display =\n",
              "          google.colab.kernel.accessAllowed ? 'block' : 'none';\n",
              "\n",
              "        async function convertToInteractive(key) {\n",
              "          const element = document.querySelector('#df-fe413ba0-915a-4ed0-994d-733c44ce7947');\n",
              "          const dataTable =\n",
              "            await google.colab.kernel.invokeFunction('convertToInteractive',\n",
              "                                                     [key], {});\n",
              "          if (!dataTable) return;\n",
              "\n",
              "          const docLinkHtml = 'Like what you see? Visit the ' +\n",
              "            '<a target=\"_blank\" href=https://colab.research.google.com/notebooks/data_table.ipynb>data table notebook</a>'\n",
              "            + ' to learn more about interactive tables.';\n",
              "          element.innerHTML = '';\n",
              "          dataTable['output_type'] = 'display_data';\n",
              "          await google.colab.output.renderOutput(dataTable, element);\n",
              "          const docLink = document.createElement('div');\n",
              "          docLink.innerHTML = docLinkHtml;\n",
              "          element.appendChild(docLink);\n",
              "        }\n",
              "      </script>\n",
              "    </div>\n",
              "  </div>\n",
              "  "
            ],
            "text/plain": [
              "   PassengerId  Pclass                                               Name  \\\n",
              "0            1       3                            Braund, Mr. Owen Harris   \n",
              "1            2       1  Cumings, Mrs. John Bradley (Florence Briggs Th...   \n",
              "2            3       3                             Heikkinen, Miss. Laina   \n",
              "3            4       1       Futrelle, Mrs. Jacques Heath (Lily May Peel)   \n",
              "4            5       3                           Allen, Mr. William Henry   \n",
              "\n",
              "      Sex   Age  SibSp  Parch            Ticket     Fare Cabin Embarked  \n",
              "0    male  22.0      1      0         A/5 21171   7.2500   NaN        S  \n",
              "1  female  38.0      1      0          PC 17599  71.2833   C85        C  \n",
              "2  female  26.0      0      0  STON/O2. 3101282   7.9250   NaN        S  \n",
              "3  female  35.0      1      0            113803  53.1000  C123        S  \n",
              "4    male  35.0      0      0            373450   8.0500   NaN        S  "
            ]
          },
          "execution_count": 9,
          "metadata": {},
          "output_type": "execute_result"
        }
      ],
      "source": [
        "train.head()"
      ]
    },
    {
      "cell_type": "code",
      "execution_count": null,
      "metadata": {
        "colab": {
          "base_uri": "https://localhost:8080/"
        },
        "id": "Ntswh6mJ2lyd",
        "outputId": "ec07e57c-d853-4301-b0d3-85109222c43f"
      },
      "outputs": [
        {
          "data": {
            "text/plain": [
              "0      0\n",
              "1      1\n",
              "2      1\n",
              "3      1\n",
              "4      0\n",
              "      ..\n",
              "886    0\n",
              "887    1\n",
              "888    0\n",
              "889    1\n",
              "890    0\n",
              "Name: Survived, Length: 891, dtype: int64"
            ]
          },
          "execution_count": 10,
          "metadata": {},
          "output_type": "execute_result"
        }
      ],
      "source": [
        "valid"
      ]
    },
    {
      "cell_type": "code",
      "execution_count": null,
      "metadata": {
        "colab": {
          "base_uri": "https://localhost:8080/"
        },
        "id": "Sf4ZItGG06xk",
        "outputId": "ceb9be64-ad0b-4a1b-dd92-012eaa1b45e0"
      },
      "outputs": [
        {
          "name": "stdout",
          "output_type": "stream",
          "text": [
            "PassengerId int64\n",
            "Pclass int64\n",
            "Name object\n",
            "Sex object\n",
            "Age float64\n",
            "SibSp int64\n",
            "Parch int64\n",
            "Ticket object\n",
            "Fare float64\n",
            "Cabin object\n",
            "Embarked object\n"
          ]
        }
      ],
      "source": [
        "for column in train.columns:\n",
        "  data_type=train[column].dtypes\n",
        "  print(column,data_type)"
      ]
    },
    {
      "cell_type": "code",
      "execution_count": null,
      "metadata": {
        "id": "52vgAUZT4hzE"
      },
      "outputs": [],
      "source": [
        "\n"
      ]
    },
    {
      "cell_type": "code",
      "execution_count": null,
      "metadata": {
        "colab": {
          "base_uri": "https://localhost:8080/"
        },
        "id": "H2OEhY5Y8feo",
        "outputId": "25912e74-0a05-4b42-c5f8-3a7c4555b58c"
      },
      "outputs": [
        {
          "data": {
            "text/plain": [
              "PassengerId      0\n",
              "Pclass           0\n",
              "Name             0\n",
              "Sex              0\n",
              "Age            177\n",
              "SibSp            0\n",
              "Parch            0\n",
              "Ticket           0\n",
              "Fare             0\n",
              "Cabin          687\n",
              "Embarked         2\n",
              "dtype: int64"
            ]
          },
          "execution_count": 12,
          "metadata": {},
          "output_type": "execute_result"
        }
      ],
      "source": [
        "train.isna().sum()"
      ]
    },
    {
      "cell_type": "code",
      "execution_count": null,
      "metadata": {
        "id": "9QpAOkquX7WU"
      },
      "outputs": [],
      "source": [
        "df['Age'] = df['Age'].fillna(df['Age'].mode()[0])\n",
        "df['Embarked'] = df['Embarked'].fillna(df['Embarked'].mode()[0])"
      ]
    },
    {
      "cell_type": "code",
      "execution_count": null,
      "metadata": {
        "colab": {
          "base_uri": "https://localhost:8080/",
          "height": 320
        },
        "id": "JsbGHTMMIKCj",
        "outputId": "397f3d8b-1e03-4fa1-fdaa-cb8ebd889206"
      },
      "outputs": [
        {
          "data": {
            "image/png": "[encoded data removed]",
            "text/plain": [
              "<Figure size 432x288 with 2 Axes>"
            ]
          },
          "metadata": {},
          "output_type": "display_data"
        }
      ],
      "source": [
        "sns.heatmap(train.corr());"
      ]
    },
    {
      "cell_type": "code",
      "execution_count": null,
      "metadata": {
        "colab": {
          "base_uri": "https://localhost:8080/",
          "height": 387
        },
        "id": "_59cZuSD8TGF",
        "outputId": "f548c220-e135-4e3a-922e-0d59682ce46a"
      },
      "outputs": [
        {
          "data": {
            "text/plain": [
              "<seaborn.axisgrid.FacetGrid at 0x7fa984731b90>"
            ]
          },
          "execution_count": 15,
          "metadata": {},
          "output_type": "execute_result"
        },
        {
          "data": {
            "image/png": "[encoded data removed]",
            "text/plain": [
              "<Figure size 411.875x360 with 1 Axes>"
            ]
          },
          "metadata": {},
          "output_type": "display_data"
        }
      ],
      "source": [
        "sns.catplot(x='Sex',hue='Survived',data=df,kind='count')"
      ]
    },
    {
      "cell_type": "code",
      "execution_count": null,
      "metadata": {
        "colab": {
          "base_uri": "https://localhost:8080/",
          "height": 297
        },
        "id": "UodS65e98hGs",
        "outputId": "c115b0f0-f63f-42fc-8518-9cb7ce9be0bf"
      },
      "outputs": [
        {
          "data": {
            "text/plain": [
              "<matplotlib.axes._subplots.AxesSubplot at 0x7fa98196db50>"
            ]
          },
          "execution_count": 16,
          "metadata": {},
          "output_type": "execute_result"
        },
        {
          "data": {
            "image/png": "[encoded data removed]",
            "text/plain": [
              "<Figure size 432x288 with 2 Axes>"
            ]
          },
          "metadata": {},
          "output_type": "display_data"
        }
      ],
      "source": [
        "heatmap1_data = pd.pivot_table(df, values='Survived', \n",
        "                     index=['Pclass'], \n",
        "                     columns='Sex')\n",
        "sns.heatmap(heatmap1_data,annot=True)"
      ]
    },
    {
      "cell_type": "code",
      "execution_count": null,
      "metadata": {
        "colab": {
          "base_uri": "https://localhost:8080/",
          "height": 297
        },
        "id": "Zfr7_FCgGbem",
        "outputId": "05aa1dde-5951-4fc1-90af-ec921626dac9"
      },
      "outputs": [
        {
          "data": {
            "text/plain": [
              "<matplotlib.axes._subplots.AxesSubplot at 0x7fa9818bf9d0>"
            ]
          },
          "execution_count": 17,
          "metadata": {},
          "output_type": "execute_result"
        },
        {
          "data": {
            "image/png": "[encoded data removed]",
            "text/plain": [
              "<Figure size 432x288 with 1 Axes>"
            ]
          },
          "metadata": {},
          "output_type": "display_data"
        }
      ],
      "source": [
        "sns.violinplot(x='Sex',y='Age',hue='Survived',data=df,split=True)"
      ]
    },
    {
      "cell_type": "markdown",
      "metadata": {
        "id": "k2LeKUflLehC"
      },
      "source": [
        "# Feature engineering and transformation"
      ]
    },
    {
      "cell_type": "code",
      "execution_count": null,
      "metadata": {
        "id": "uFI8CYpdLhLk"
      },
      "outputs": [],
      "source": [
        "from sklearn.preprocessing import OrdinalEncoder,MinMaxScaler"
      ]
    },
    {
      "cell_type": "code",
      "execution_count": null,
      "metadata": {
        "id": "Rn2RC4mHVZFS"
      },
      "outputs": [],
      "source": [
        "oe=OrdinalEncoder(categories='auto')\n",
        "df['Pclass']=oe.fit_transform(df[['Pclass']])"
      ]
    },
    {
      "cell_type": "code",
      "execution_count": null,
      "metadata": {
        "id": "u_ohu1LI_YIp"
      },
      "outputs": [],
      "source": [
        ""
      ]
    },
    {
      "cell_type": "code",
      "execution_count": null,
      "metadata": {
        "colab": {
          "base_uri": "https://localhost:8080/",
          "height": 424
        },
        "id": "H_ctEgKEW--k",
        "outputId": "00263d95-5e56-4183-e281-db36cdcb341d"
      },
      "outputs": [
        {
          "data": {
            "text/html": [
              "\n",
              "  <div id=\"df-d8f81cfa-053f-4dac-87d6-59c052a0a87e\">\n",
              "    <div class=\"colab-df-container\">\n",
              "      <div>\n",
              "<style scoped>\n",
              "    .dataframe tbody tr th:only-of-type {\n",
              "        vertical-align: middle;\n",
              "    }\n",
              "\n",
              "    .dataframe tbody tr th {\n",
              "        vertical-align: top;\n",
              "    }\n",
              "\n",
              "    .dataframe thead th {\n",
              "        text-align: right;\n",
              "    }\n",
              "</style>\n",
              "<table border=\"1\" class=\"dataframe\">\n",
              "  <thead>\n",
              "    <tr style=\"text-align: right;\">\n",
              "      <th></th>\n",
              "      <th>PassengerId</th>\n",
              "      <th>Survived</th>\n",
              "      <th>Pclass</th>\n",
              "      <th>Name</th>\n",
              "      <th>Sex</th>\n",
              "      <th>Age</th>\n",
              "      <th>SibSp</th>\n",
              "      <th>Parch</th>\n",
              "      <th>Ticket</th>\n",
              "      <th>Fare</th>\n",
              "      <th>Cabin</th>\n",
              "      <th>Embarked</th>\n",
              "    </tr>\n",
              "  </thead>\n",
              "  <tbody>\n",
              "    <tr>\n",
              "      <th>0</th>\n",
              "      <td>1</td>\n",
              "      <td>0</td>\n",
              "      <td>2.0</td>\n",
              "      <td>Braund, Mr. Owen Harris</td>\n",
              "      <td>male</td>\n",
              "      <td>22.0</td>\n",
              "      <td>1</td>\n",
              "      <td>0</td>\n",
              "      <td>A/5 21171</td>\n",
              "      <td>7.2500</td>\n",
              "      <td>NaN</td>\n",
              "      <td>S</td>\n",
              "    </tr>\n",
              "    <tr>\n",
              "      <th>1</th>\n",
              "      <td>2</td>\n",
              "      <td>1</td>\n",
              "      <td>0.0</td>\n",
              "      <td>Cumings, Mrs. John Bradley (Florence Briggs Th...</td>\n",
              "      <td>female</td>\n",
              "      <td>38.0</td>\n",
              "      <td>1</td>\n",
              "      <td>0</td>\n",
              "      <td>PC 17599</td>\n",
              "      <td>71.2833</td>\n",
              "      <td>C85</td>\n",
              "      <td>C</td>\n",
              "    </tr>\n",
              "    <tr>\n",
              "      <th>2</th>\n",
              "      <td>3</td>\n",
              "      <td>1</td>\n",
              "      <td>2.0</td>\n",
              "      <td>Heikkinen, Miss. Laina</td>\n",
              "      <td>female</td>\n",
              "      <td>26.0</td>\n",
              "      <td>0</td>\n",
              "      <td>0</td>\n",
              "      <td>STON/O2. 3101282</td>\n",
              "      <td>7.9250</td>\n",
              "      <td>NaN</td>\n",
              "      <td>S</td>\n",
              "    </tr>\n",
              "    <tr>\n",
              "      <th>3</th>\n",
              "      <td>4</td>\n",
              "      <td>1</td>\n",
              "      <td>0.0</td>\n",
              "      <td>Futrelle, Mrs. Jacques Heath (Lily May Peel)</td>\n",
              "      <td>female</td>\n",
              "      <td>35.0</td>\n",
              "      <td>1</td>\n",
              "      <td>0</td>\n",
              "      <td>113803</td>\n",
              "      <td>53.1000</td>\n",
              "      <td>C123</td>\n",
              "      <td>S</td>\n",
              "    </tr>\n",
              "    <tr>\n",
              "      <th>4</th>\n",
              "      <td>5</td>\n",
              "      <td>0</td>\n",
              "      <td>2.0</td>\n",
              "      <td>Allen, Mr. William Henry</td>\n",
              "      <td>male</td>\n",
              "      <td>35.0</td>\n",
              "      <td>0</td>\n",
              "      <td>0</td>\n",
              "      <td>373450</td>\n",
              "      <td>8.0500</td>\n",
              "      <td>NaN</td>\n",
              "      <td>S</td>\n",
              "    </tr>\n",
              "    <tr>\n",
              "      <th>...</th>\n",
              "      <td>...</td>\n",
              "      <td>...</td>\n",
              "      <td>...</td>\n",
              "      <td>...</td>\n",
              "      <td>...</td>\n",
              "      <td>...</td>\n",
              "      <td>...</td>\n",
              "      <td>...</td>\n",
              "      <td>...</td>\n",
              "      <td>...</td>\n",
              "      <td>...</td>\n",
              "      <td>...</td>\n",
              "    </tr>\n",
              "    <tr>\n",
              "      <th>886</th>\n",
              "      <td>887</td>\n",
              "      <td>0</td>\n",
              "      <td>1.0</td>\n",
              "      <td>Montvila, Rev. Juozas</td>\n",
              "      <td>male</td>\n",
              "      <td>27.0</td>\n",
              "      <td>0</td>\n",
              "      <td>0</td>\n",
              "      <td>211536</td>\n",
              "      <td>13.0000</td>\n",
              "      <td>NaN</td>\n",
              "      <td>S</td>\n",
              "    </tr>\n",
              "    <tr>\n",
              "      <th>887</th>\n",
              "      <td>888</td>\n",
              "      <td>1</td>\n",
              "      <td>0.0</td>\n",
              "      <td>Graham, Miss. Margaret Edith</td>\n",
              "      <td>female</td>\n",
              "      <td>19.0</td>\n",
              "      <td>0</td>\n",
              "      <td>0</td>\n",
              "      <td>112053</td>\n",
              "      <td>30.0000</td>\n",
              "      <td>B42</td>\n",
              "      <td>S</td>\n",
              "    </tr>\n",
              "    <tr>\n",
              "      <th>888</th>\n",
              "      <td>889</td>\n",
              "      <td>0</td>\n",
              "      <td>2.0</td>\n",
              "      <td>Johnston, Miss. Catherine Helen \"Carrie\"</td>\n",
              "      <td>female</td>\n",
              "      <td>24.0</td>\n",
              "      <td>1</td>\n",
              "      <td>2</td>\n",
              "      <td>W./C. 6607</td>\n",
              "      <td>23.4500</td>\n",
              "      <td>NaN</td>\n",
              "      <td>S</td>\n",
              "    </tr>\n",
              "    <tr>\n",
              "      <th>889</th>\n",
              "      <td>890</td>\n",
              "      <td>1</td>\n",
              "      <td>0.0</td>\n",
              "      <td>Behr, Mr. Karl Howell</td>\n",
              "      <td>male</td>\n",
              "      <td>26.0</td>\n",
              "      <td>0</td>\n",
              "      <td>0</td>\n",
              "      <td>111369</td>\n",
              "      <td>30.0000</td>\n",
              "      <td>C148</td>\n",
              "      <td>C</td>\n",
              "    </tr>\n",
              "    <tr>\n",
              "      <th>890</th>\n",
              "      <td>891</td>\n",
              "      <td>0</td>\n",
              "      <td>2.0</td>\n",
              "      <td>Dooley, Mr. Patrick</td>\n",
              "      <td>male</td>\n",
              "      <td>32.0</td>\n",
              "      <td>0</td>\n",
              "      <td>0</td>\n",
              "      <td>370376</td>\n",
              "      <td>7.7500</td>\n",
              "      <td>NaN</td>\n",
              "      <td>Q</td>\n",
              "    </tr>\n",
              "  </tbody>\n",
              "</table>\n",
              "<p>891 rows × 12 columns</p>\n",
              "</div>\n",
              "      <button class=\"colab-df-convert\" onclick=\"convertToInteractive('df-d8f81cfa-053f-4dac-87d6-59c052a0a87e')\"\n",
              "              title=\"Convert this dataframe to an interactive table.\"\n",
              "              style=\"display:none;\">\n",
              "        \n",
              "  <svg xmlns=\"http://www.w3.org/2000/svg\" height=\"24px\"viewBox=\"0 0 24 24\"\n",
              "       width=\"24px\">\n",
              "    <path d=\"M0 0h24v24H0V0z\" fill=\"none\"/>\n",
              "    <path d=\"M18.56 5.44l.94 2.06.94-2.06 2.06-.94-2.06-.94-.94-2.06-.94 2.06-2.06.94zm-11 1L8.5 8.5l.94-2.06 2.06-.94-2.06-.94L8.5 2.5l-.94 2.06-2.06.94zm10 10l.94 2.06.94-2.06 2.06-.94-2.06-.94-.94-2.06-.94 2.06-2.06.94z\"/><path d=\"M17.41 7.96l-1.37-1.37c-.4-.4-.92-.59-1.43-.59-.52 0-1.04.2-1.43.59L10.3 9.45l-7.72 7.72c-.78.78-.78 2.05 0 2.83L4 21.41c.39.39.9.59 1.41.59.51 0 1.02-.2 1.41-.59l7.78-7.78 2.81-2.81c.8-.78.8-2.07 0-2.86zM5.41 20L4 18.59l7.72-7.72 1.47 1.35L5.41 20z\"/>\n",
              "  </svg>\n",
              "      </button>\n",
              "      \n",
              "  <style>\n",
              "    .colab-df-container {\n",
              "      display:flex;\n",
              "      flex-wrap:wrap;\n",
              "      gap: 12px;\n",
              "    }\n",
              "\n",
              "    .colab-df-convert {\n",
              "      background-color: #E8F0FE;\n",
              "      border: none;\n",
              "      border-radius: 50%;\n",
              "      cursor: pointer;\n",
              "      display: none;\n",
              "      fill: #1967D2;\n",
              "      height: 32px;\n",
              "      padding: 0 0 0 0;\n",
              "      width: 32px;\n",
              "    }\n",
              "\n",
              "    .colab-df-convert:hover {\n",
              "      background-color: #E2EBFA;\n",
              "      box-shadow: 0px 1px 2px rgba(60, 64, 67, 0.3), 0px 1px 3px 1px rgba(60, 64, 67, 0.15);\n",
              "      fill: #174EA6;\n",
              "    }\n",
              "\n",
              "    [theme=dark] .colab-df-convert {\n",
              "      background-color: #3B4455;\n",
              "      fill: #D2E3FC;\n",
              "    }\n",
              "\n",
              "    [theme=dark] .colab-df-convert:hover {\n",
              "      background-color: #434B5C;\n",
              "      box-shadow: 0px 1px 3px 1px rgba(0, 0, 0, 0.15);\n",
              "      filter: drop-shadow(0px 1px 2px rgba(0, 0, 0, 0.3));\n",
              "      fill: #FFFFFF;\n",
              "    }\n",
              "  </style>\n",
              "\n",
              "      <script>\n",
              "        const buttonEl =\n",
              "          document.querySelector('#df-d8f81cfa-053f-4dac-87d6-59c052a0a87e button.colab-df-convert');\n",
              "        buttonEl.style.display =\n",
              "          google.colab.kernel.accessAllowed ? 'block' : 'none';\n",
              "\n",
              "        async function convertToInteractive(key) {\n",
              "          const element = document.querySelector('#df-d8f81cfa-053f-4dac-87d6-59c052a0a87e');\n",
              "          const dataTable =\n",
              "            await google.colab.kernel.invokeFunction('convertToInteractive',\n",
              "                                                     [key], {});\n",
              "          if (!dataTable) return;\n",
              "\n",
              "          const docLinkHtml = 'Like what you see? Visit the ' +\n",
              "            '<a target=\"_blank\" href=https://colab.research.google.com/notebooks/data_table.ipynb>data table notebook</a>'\n",
              "            + ' to learn more about interactive tables.';\n",
              "          element.innerHTML = '';\n",
              "          dataTable['output_type'] = 'display_data';\n",
              "          await google.colab.output.renderOutput(dataTable, element);\n",
              "          const docLink = document.createElement('div');\n",
              "          docLink.innerHTML = docLinkHtml;\n",
              "          element.appendChild(docLink);\n",
              "        }\n",
              "      </script>\n",
              "    </div>\n",
              "  </div>\n",
              "  "
            ],
            "text/plain": [
              "     PassengerId  Survived  Pclass  \\\n",
              "0              1         0     2.0   \n",
              "1              2         1     0.0   \n",
              "2              3         1     2.0   \n",
              "3              4         1     0.0   \n",
              "4              5         0     2.0   \n",
              "..           ...       ...     ...   \n",
              "886          887         0     1.0   \n",
              "887          888         1     0.0   \n",
              "888          889         0     2.0   \n",
              "889          890         1     0.0   \n",
              "890          891         0     2.0   \n",
              "\n",
              "                                                  Name     Sex   Age  SibSp  \\\n",
              "0                              Braund, Mr. Owen Harris    male  22.0      1   \n",
              "1    Cumings, Mrs. John Bradley (Florence Briggs Th...  female  38.0      1   \n",
              "2                               Heikkinen, Miss. Laina  female  26.0      0   \n",
              "3         Futrelle, Mrs. Jacques Heath (Lily May Peel)  female  35.0      1   \n",
              "4                             Allen, Mr. William Henry    male  35.0      0   \n",
              "..                                                 ...     ...   ...    ...   \n",
              "886                              Montvila, Rev. Juozas    male  27.0      0   \n",
              "887                       Graham, Miss. Margaret Edith  female  19.0      0   \n",
              "888           Johnston, Miss. Catherine Helen \"Carrie\"  female  24.0      1   \n",
              "889                              Behr, Mr. Karl Howell    male  26.0      0   \n",
              "890                                Dooley, Mr. Patrick    male  32.0      0   \n",
              "\n",
              "     Parch            Ticket     Fare Cabin Embarked  \n",
              "0        0         A/5 21171   7.2500   NaN        S  \n",
              "1        0          PC 17599  71.2833   C85        C  \n",
              "2        0  STON/O2. 3101282   7.9250   NaN        S  \n",
              "3        0            113803  53.1000  C123        S  \n",
              "4        0            373450   8.0500   NaN        S  \n",
              "..     ...               ...      ...   ...      ...  \n",
              "886      0            211536  13.0000   NaN        S  \n",
              "887      0            112053  30.0000   B42        S  \n",
              "888      2        W./C. 6607  23.4500   NaN        S  \n",
              "889      0            111369  30.0000  C148        C  \n",
              "890      0            370376   7.7500   NaN        Q  \n",
              "\n",
              "[891 rows x 12 columns]"
            ]
          },
          "execution_count": 20,
          "metadata": {},
          "output_type": "execute_result"
        }
      ],
      "source": [
        "df"
      ]
    },
    {
      "cell_type": "code",
      "execution_count": null,
      "metadata": {
        "id": "BnyqY0d1UFHE"
      },
      "outputs": [],
      "source": [
        "df=pd.concat([df,pd.get_dummies(df['Sex'],prefix='Sex')],axis=1)\n",
        "df.drop(['Sex'],axis=1,inplace=True)"
      ]
    },
    {
      "cell_type": "code",
      "execution_count": null,
      "metadata": {
        "id": "Z6gSNdt9UK0i"
      },
      "outputs": [],
      "source": [
        "df=pd.concat([df,pd.get_dummies(df['Embarked'],prefix='Embarked')],axis=1)\n",
        "df.drop(['Embarked'],axis=1,inplace=True)"
      ]
    },
    {
      "cell_type": "code",
      "execution_count": null,
      "metadata": {
        "id": "EHa4CxH1XV37"
      },
      "outputs": [],
      "source": [
        "df.drop('Name',axis=1,inplace=True)"
      ]
    },
    {
      "cell_type": "code",
      "execution_count": null,
      "metadata": {
        "id": "uvo7aJrnXbdl"
      },
      "outputs": [],
      "source": [
        "df.drop('Ticket',axis=1,inplace=True)"
      ]
    },
    {
      "cell_type": "code",
      "execution_count": null,
      "metadata": {
        "id": "VlwGynOOXwZl"
      },
      "outputs": [],
      "source": [
        "df.drop('Cabin',axis=1,inplace=True)"
      ]
    },
    {
      "cell_type": "code",
      "execution_count": null,
      "metadata": {
        "id": "lhiRPiI6ZNh0"
      },
      "outputs": [],
      "source": [
        "df.drop(['PassengerId'],axis=1,inplace=True)"
      ]
    },
    {
      "cell_type": "code",
      "execution_count": null,
      "metadata": {
        "id": "PBYHEGS5-FkS"
      },
      "outputs": [],
      "source": [
        "df['Family'] = 0\n",
        "df['Family'] = df['Parch']+df['SibSp']\n",
        "\n",
        "df['Alone'] = 0\n",
        "df.loc[df.Family == 0, 'Alone'] = 1\n",
        "\n",
        "df.drop(['Parch','SibSp'],axis=1,inplace=True)"
      ]
    },
    {
      "cell_type": "code",
      "execution_count": null,
      "metadata": {
        "id": "qDLJg_a6lg3x"
      },
      "outputs": [],
      "source": [
        ""
      ]
    },
    {
      "cell_type": "markdown",
      "metadata": {
        "id": "c8XPEDl7ocFX"
      },
      "source": [
        "# Traditional ML modeling"
      ]
    },
    {
      "cell_type": "code",
      "execution_count": null,
      "metadata": {
        "id": "BE3kYpzuqJyf"
      },
      "outputs": [],
      "source": [
        "from sklearn.ensemble import RandomForestClassifier\n",
        "import xgboost as xgb\n",
        "from sklearn.model_selection import GridSearchCV"
      ]
    },
    {
      "cell_type": "code",
      "execution_count": null,
      "metadata": {
        "id": "V6lE5avKcy5i"
      },
      "outputs": [],
      "source": [
        "X=df.drop('Survived',axis=1)\n",
        "y=df['Survived']"
      ]
    },
    {
      "cell_type": "code",
      "execution_count": null,
      "metadata": {
        "id": "X9jAN6twchRU"
      },
      "outputs": [],
      "source": [
        "X_train,X_test,y_train,y_test=train_test_split(X,y,train_size=.9)"
      ]
    },
    {
      "cell_type": "code",
      "execution_count": null,
      "metadata": {
        "colab": {
          "base_uri": "https://localhost:8080/",
          "height": 424
        },
        "id": "YukU7hBWM_4U",
        "outputId": "a07789a0-299b-4330-acd8-91c227191372"
      },
      "outputs": [
        {
          "data": {
            "text/html": [
              "\n",
              "  <div id=\"df-4e562ca8-f9a1-4690-8428-0675ad997bdc\">\n",
              "    <div class=\"colab-df-container\">\n",
              "      <div>\n",
              "<style scoped>\n",
              "    .dataframe tbody tr th:only-of-type {\n",
              "        vertical-align: middle;\n",
              "    }\n",
              "\n",
              "    .dataframe tbody tr th {\n",
              "        vertical-align: top;\n",
              "    }\n",
              "\n",
              "    .dataframe thead th {\n",
              "        text-align: right;\n",
              "    }\n",
              "</style>\n",
              "<table border=\"1\" class=\"dataframe\">\n",
              "  <thead>\n",
              "    <tr style=\"text-align: right;\">\n",
              "      <th></th>\n",
              "      <th>Pclass</th>\n",
              "      <th>Age</th>\n",
              "      <th>Fare</th>\n",
              "      <th>Sex_female</th>\n",
              "      <th>Sex_male</th>\n",
              "      <th>Embarked_C</th>\n",
              "      <th>Embarked_Q</th>\n",
              "      <th>Embarked_S</th>\n",
              "      <th>Family</th>\n",
              "      <th>Alone</th>\n",
              "    </tr>\n",
              "  </thead>\n",
              "  <tbody>\n",
              "    <tr>\n",
              "      <th>174</th>\n",
              "      <td>0.0</td>\n",
              "      <td>56.0</td>\n",
              "      <td>30.6958</td>\n",
              "      <td>0</td>\n",
              "      <td>1</td>\n",
              "      <td>1</td>\n",
              "      <td>0</td>\n",
              "      <td>0</td>\n",
              "      <td>0</td>\n",
              "      <td>1</td>\n",
              "    </tr>\n",
              "    <tr>\n",
              "      <th>685</th>\n",
              "      <td>1.0</td>\n",
              "      <td>25.0</td>\n",
              "      <td>41.5792</td>\n",
              "      <td>0</td>\n",
              "      <td>1</td>\n",
              "      <td>1</td>\n",
              "      <td>0</td>\n",
              "      <td>0</td>\n",
              "      <td>3</td>\n",
              "      <td>0</td>\n",
              "    </tr>\n",
              "    <tr>\n",
              "      <th>560</th>\n",
              "      <td>2.0</td>\n",
              "      <td>24.0</td>\n",
              "      <td>7.7500</td>\n",
              "      <td>0</td>\n",
              "      <td>1</td>\n",
              "      <td>0</td>\n",
              "      <td>1</td>\n",
              "      <td>0</td>\n",
              "      <td>0</td>\n",
              "      <td>1</td>\n",
              "    </tr>\n",
              "    <tr>\n",
              "      <th>505</th>\n",
              "      <td>0.0</td>\n",
              "      <td>18.0</td>\n",
              "      <td>108.9000</td>\n",
              "      <td>0</td>\n",
              "      <td>1</td>\n",
              "      <td>1</td>\n",
              "      <td>0</td>\n",
              "      <td>0</td>\n",
              "      <td>1</td>\n",
              "      <td>0</td>\n",
              "    </tr>\n",
              "    <tr>\n",
              "      <th>97</th>\n",
              "      <td>0.0</td>\n",
              "      <td>23.0</td>\n",
              "      <td>63.3583</td>\n",
              "      <td>0</td>\n",
              "      <td>1</td>\n",
              "      <td>1</td>\n",
              "      <td>0</td>\n",
              "      <td>0</td>\n",
              "      <td>1</td>\n",
              "      <td>0</td>\n",
              "    </tr>\n",
              "    <tr>\n",
              "      <th>...</th>\n",
              "      <td>...</td>\n",
              "      <td>...</td>\n",
              "      <td>...</td>\n",
              "      <td>...</td>\n",
              "      <td>...</td>\n",
              "      <td>...</td>\n",
              "      <td>...</td>\n",
              "      <td>...</td>\n",
              "      <td>...</td>\n",
              "      <td>...</td>\n",
              "    </tr>\n",
              "    <tr>\n",
              "      <th>459</th>\n",
              "      <td>2.0</td>\n",
              "      <td>24.0</td>\n",
              "      <td>7.7500</td>\n",
              "      <td>0</td>\n",
              "      <td>1</td>\n",
              "      <td>0</td>\n",
              "      <td>1</td>\n",
              "      <td>0</td>\n",
              "      <td>0</td>\n",
              "      <td>1</td>\n",
              "    </tr>\n",
              "    <tr>\n",
              "      <th>786</th>\n",
              "      <td>2.0</td>\n",
              "      <td>18.0</td>\n",
              "      <td>7.4958</td>\n",
              "      <td>1</td>\n",
              "      <td>0</td>\n",
              "      <td>0</td>\n",
              "      <td>0</td>\n",
              "      <td>1</td>\n",
              "      <td>0</td>\n",
              "      <td>1</td>\n",
              "    </tr>\n",
              "    <tr>\n",
              "      <th>376</th>\n",
              "      <td>2.0</td>\n",
              "      <td>22.0</td>\n",
              "      <td>7.2500</td>\n",
              "      <td>1</td>\n",
              "      <td>0</td>\n",
              "      <td>0</td>\n",
              "      <td>0</td>\n",
              "      <td>1</td>\n",
              "      <td>0</td>\n",
              "      <td>1</td>\n",
              "    </tr>\n",
              "    <tr>\n",
              "      <th>539</th>\n",
              "      <td>0.0</td>\n",
              "      <td>22.0</td>\n",
              "      <td>49.5000</td>\n",
              "      <td>1</td>\n",
              "      <td>0</td>\n",
              "      <td>1</td>\n",
              "      <td>0</td>\n",
              "      <td>0</td>\n",
              "      <td>2</td>\n",
              "      <td>0</td>\n",
              "    </tr>\n",
              "    <tr>\n",
              "      <th>351</th>\n",
              "      <td>0.0</td>\n",
              "      <td>24.0</td>\n",
              "      <td>35.0000</td>\n",
              "      <td>0</td>\n",
              "      <td>1</td>\n",
              "      <td>0</td>\n",
              "      <td>0</td>\n",
              "      <td>1</td>\n",
              "      <td>0</td>\n",
              "      <td>1</td>\n",
              "    </tr>\n",
              "  </tbody>\n",
              "</table>\n",
              "<p>90 rows × 10 columns</p>\n",
              "</div>\n",
              "      <button class=\"colab-df-convert\" onclick=\"convertToInteractive('df-4e562ca8-f9a1-4690-8428-0675ad997bdc')\"\n",
              "              title=\"Convert this dataframe to an interactive table.\"\n",
              "              style=\"display:none;\">\n",
              "        \n",
              "  <svg xmlns=\"http://www.w3.org/2000/svg\" height=\"24px\"viewBox=\"0 0 24 24\"\n",
              "       width=\"24px\">\n",
              "    <path d=\"M0 0h24v24H0V0z\" fill=\"none\"/>\n",
              "    <path d=\"M18.56 5.44l.94 2.06.94-2.06 2.06-.94-2.06-.94-.94-2.06-.94 2.06-2.06.94zm-11 1L8.5 8.5l.94-2.06 2.06-.94-2.06-.94L8.5 2.5l-.94 2.06-2.06.94zm10 10l.94 2.06.94-2.06 2.06-.94-2.06-.94-.94-2.06-.94 2.06-2.06.94z\"/><path d=\"M17.41 7.96l-1.37-1.37c-.4-.4-.92-.59-1.43-.59-.52 0-1.04.2-1.43.59L10.3 9.45l-7.72 7.72c-.78.78-.78 2.05 0 2.83L4 21.41c.39.39.9.59 1.41.59.51 0 1.02-.2 1.41-.59l7.78-7.78 2.81-2.81c.8-.78.8-2.07 0-2.86zM5.41 20L4 18.59l7.72-7.72 1.47 1.35L5.41 20z\"/>\n",
              "  </svg>\n",
              "      </button>\n",
              "      \n",
              "  <style>\n",
              "    .colab-df-container {\n",
              "      display:flex;\n",
              "      flex-wrap:wrap;\n",
              "      gap: 12px;\n",
              "    }\n",
              "\n",
              "    .colab-df-convert {\n",
              "      background-color: #E8F0FE;\n",
              "      border: none;\n",
              "      border-radius: 50%;\n",
              "      cursor: pointer;\n",
              "      display: none;\n",
              "      fill: #1967D2;\n",
              "      height: 32px;\n",
              "      padding: 0 0 0 0;\n",
              "      width: 32px;\n",
              "    }\n",
              "\n",
              "    .colab-df-convert:hover {\n",
              "      background-color: #E2EBFA;\n",
              "      box-shadow: 0px 1px 2px rgba(60, 64, 67, 0.3), 0px 1px 3px 1px rgba(60, 64, 67, 0.15);\n",
              "      fill: #174EA6;\n",
              "    }\n",
              "\n",
              "    [theme=dark] .colab-df-convert {\n",
              "      background-color: #3B4455;\n",
              "      fill: #D2E3FC;\n",
              "    }\n",
              "\n",
              "    [theme=dark] .colab-df-convert:hover {\n",
              "      background-color: #434B5C;\n",
              "      box-shadow: 0px 1px 3px 1px rgba(0, 0, 0, 0.15);\n",
              "      filter: drop-shadow(0px 1px 2px rgba(0, 0, 0, 0.3));\n",
              "      fill: #FFFFFF;\n",
              "    }\n",
              "  </style>\n",
              "\n",
              "      <script>\n",
              "        const buttonEl =\n",
              "          document.querySelector('#df-4e562ca8-f9a1-4690-8428-0675ad997bdc button.colab-df-convert');\n",
              "        buttonEl.style.display =\n",
              "          google.colab.kernel.accessAllowed ? 'block' : 'none';\n",
              "\n",
              "        async function convertToInteractive(key) {\n",
              "          const element = document.querySelector('#df-4e562ca8-f9a1-4690-8428-0675ad997bdc');\n",
              "          const dataTable =\n",
              "            await google.colab.kernel.invokeFunction('convertToInteractive',\n",
              "                                                     [key], {});\n",
              "          if (!dataTable) return;\n",
              "\n",
              "          const docLinkHtml = 'Like what you see? Visit the ' +\n",
              "            '<a target=\"_blank\" href=https://colab.research.google.com/notebooks/data_table.ipynb>data table notebook</a>'\n",
              "            + ' to learn more about interactive tables.';\n",
              "          element.innerHTML = '';\n",
              "          dataTable['output_type'] = 'display_data';\n",
              "          await google.colab.output.renderOutput(dataTable, element);\n",
              "          const docLink = document.createElement('div');\n",
              "          docLink.innerHTML = docLinkHtml;\n",
              "          element.appendChild(docLink);\n",
              "        }\n",
              "      </script>\n",
              "    </div>\n",
              "  </div>\n",
              "  "
            ],
            "text/plain": [
              "     Pclass   Age      Fare  Sex_female  Sex_male  Embarked_C  Embarked_Q  \\\n",
              "174     0.0  56.0   30.6958           0         1           1           0   \n",
              "685     1.0  25.0   41.5792           0         1           1           0   \n",
              "560     2.0  24.0    7.7500           0         1           0           1   \n",
              "505     0.0  18.0  108.9000           0         1           1           0   \n",
              "97      0.0  23.0   63.3583           0         1           1           0   \n",
              "..      ...   ...       ...         ...       ...         ...         ...   \n",
              "459     2.0  24.0    7.7500           0         1           0           1   \n",
              "786     2.0  18.0    7.4958           1         0           0           0   \n",
              "376     2.0  22.0    7.2500           1         0           0           0   \n",
              "539     0.0  22.0   49.5000           1         0           1           0   \n",
              "351     0.0  24.0   35.0000           0         1           0           0   \n",
              "\n",
              "     Embarked_S  Family  Alone  \n",
              "174           0       0      1  \n",
              "685           0       3      0  \n",
              "560           0       0      1  \n",
              "505           0       1      0  \n",
              "97            0       1      0  \n",
              "..          ...     ...    ...  \n",
              "459           0       0      1  \n",
              "786           1       0      1  \n",
              "376           1       0      1  \n",
              "539           0       2      0  \n",
              "351           1       0      1  \n",
              "\n",
              "[90 rows x 10 columns]"
            ]
          },
          "execution_count": 31,
          "metadata": {},
          "output_type": "execute_result"
        }
      ],
      "source": [
        "X_test"
      ]
    },
    {
      "cell_type": "code",
      "execution_count": null,
      "metadata": {
        "colab": {
          "base_uri": "https://localhost:8080/"
        },
        "id": "VxTXaXB8NJZG",
        "outputId": "0e20d69d-fdba-4f11-def3-dff6f165d50d"
      },
      "outputs": [
        {
          "data": {
            "text/plain": [
              "174    0\n",
              "685    0\n",
              "560    0\n",
              "505    0\n",
              "97     1\n",
              "      ..\n",
              "459    0\n",
              "786    1\n",
              "376    1\n",
              "539    1\n",
              "351    0\n",
              "Name: Survived, Length: 90, dtype: int64"
            ]
          },
          "execution_count": 32,
          "metadata": {},
          "output_type": "execute_result"
        }
      ],
      "source": [
        "y_test"
      ]
    },
    {
      "cell_type": "code",
      "execution_count": null,
      "metadata": {
        "colab": {
          "base_uri": "https://localhost:8080/"
        },
        "id": "XdyWBiMeNMZt",
        "outputId": "98ffa0a2-1014-4572-968c-12427aeddeab"
      },
      "outputs": [
        {
          "data": {
            "text/plain": [
              "293    0\n",
              "441    0\n",
              "164    0\n",
              "472    1\n",
              "44     1\n",
              "      ..\n",
              "433    0\n",
              "390    1\n",
              "168    0\n",
              "875    1\n",
              "92     0\n",
              "Name: Survived, Length: 801, dtype: int64"
            ]
          },
          "execution_count": 33,
          "metadata": {},
          "output_type": "execute_result"
        }
      ],
      "source": [
        "y_train"
      ]
    },
    {
      "cell_type": "code",
      "execution_count": null,
      "metadata": {
        "colab": {
          "base_uri": "https://localhost:8080/",
          "height": 424
        },
        "id": "a6j-cMtjjqaG",
        "outputId": "d26712a5-f7bf-4537-acd8-97c24ae90757"
      },
      "outputs": [
        {
          "data": {
            "text/html": [
              "\n",
              "  <div id=\"df-271b23d0-a52a-4336-b59c-c036cdc31b04\">\n",
              "    <div class=\"colab-df-container\">\n",
              "      <div>\n",
              "<style scoped>\n",
              "    .dataframe tbody tr th:only-of-type {\n",
              "        vertical-align: middle;\n",
              "    }\n",
              "\n",
              "    .dataframe tbody tr th {\n",
              "        vertical-align: top;\n",
              "    }\n",
              "\n",
              "    .dataframe thead th {\n",
              "        text-align: right;\n",
              "    }\n",
              "</style>\n",
              "<table border=\"1\" class=\"dataframe\">\n",
              "  <thead>\n",
              "    <tr style=\"text-align: right;\">\n",
              "      <th></th>\n",
              "      <th>Pclass</th>\n",
              "      <th>Age</th>\n",
              "      <th>Fare</th>\n",
              "      <th>Sex_female</th>\n",
              "      <th>Sex_male</th>\n",
              "      <th>Embarked_C</th>\n",
              "      <th>Embarked_Q</th>\n",
              "      <th>Embarked_S</th>\n",
              "      <th>Family</th>\n",
              "      <th>Alone</th>\n",
              "    </tr>\n",
              "  </thead>\n",
              "  <tbody>\n",
              "    <tr>\n",
              "      <th>293</th>\n",
              "      <td>2.0</td>\n",
              "      <td>24.0</td>\n",
              "      <td>8.8500</td>\n",
              "      <td>1</td>\n",
              "      <td>0</td>\n",
              "      <td>0</td>\n",
              "      <td>0</td>\n",
              "      <td>1</td>\n",
              "      <td>0</td>\n",
              "      <td>1</td>\n",
              "    </tr>\n",
              "    <tr>\n",
              "      <th>441</th>\n",
              "      <td>2.0</td>\n",
              "      <td>20.0</td>\n",
              "      <td>9.5000</td>\n",
              "      <td>0</td>\n",
              "      <td>1</td>\n",
              "      <td>0</td>\n",
              "      <td>0</td>\n",
              "      <td>1</td>\n",
              "      <td>0</td>\n",
              "      <td>1</td>\n",
              "    </tr>\n",
              "    <tr>\n",
              "      <th>164</th>\n",
              "      <td>2.0</td>\n",
              "      <td>1.0</td>\n",
              "      <td>39.6875</td>\n",
              "      <td>0</td>\n",
              "      <td>1</td>\n",
              "      <td>0</td>\n",
              "      <td>0</td>\n",
              "      <td>1</td>\n",
              "      <td>5</td>\n",
              "      <td>0</td>\n",
              "    </tr>\n",
              "    <tr>\n",
              "      <th>472</th>\n",
              "      <td>1.0</td>\n",
              "      <td>33.0</td>\n",
              "      <td>27.7500</td>\n",
              "      <td>1</td>\n",
              "      <td>0</td>\n",
              "      <td>0</td>\n",
              "      <td>0</td>\n",
              "      <td>1</td>\n",
              "      <td>3</td>\n",
              "      <td>0</td>\n",
              "    </tr>\n",
              "    <tr>\n",
              "      <th>44</th>\n",
              "      <td>2.0</td>\n",
              "      <td>19.0</td>\n",
              "      <td>7.8792</td>\n",
              "      <td>1</td>\n",
              "      <td>0</td>\n",
              "      <td>0</td>\n",
              "      <td>1</td>\n",
              "      <td>0</td>\n",
              "      <td>0</td>\n",
              "      <td>1</td>\n",
              "    </tr>\n",
              "    <tr>\n",
              "      <th>...</th>\n",
              "      <td>...</td>\n",
              "      <td>...</td>\n",
              "      <td>...</td>\n",
              "      <td>...</td>\n",
              "      <td>...</td>\n",
              "      <td>...</td>\n",
              "      <td>...</td>\n",
              "      <td>...</td>\n",
              "      <td>...</td>\n",
              "      <td>...</td>\n",
              "    </tr>\n",
              "    <tr>\n",
              "      <th>433</th>\n",
              "      <td>2.0</td>\n",
              "      <td>17.0</td>\n",
              "      <td>7.1250</td>\n",
              "      <td>0</td>\n",
              "      <td>1</td>\n",
              "      <td>0</td>\n",
              "      <td>0</td>\n",
              "      <td>1</td>\n",
              "      <td>0</td>\n",
              "      <td>1</td>\n",
              "    </tr>\n",
              "    <tr>\n",
              "      <th>390</th>\n",
              "      <td>0.0</td>\n",
              "      <td>36.0</td>\n",
              "      <td>120.0000</td>\n",
              "      <td>0</td>\n",
              "      <td>1</td>\n",
              "      <td>0</td>\n",
              "      <td>0</td>\n",
              "      <td>1</td>\n",
              "      <td>3</td>\n",
              "      <td>0</td>\n",
              "    </tr>\n",
              "    <tr>\n",
              "      <th>168</th>\n",
              "      <td>0.0</td>\n",
              "      <td>24.0</td>\n",
              "      <td>25.9250</td>\n",
              "      <td>0</td>\n",
              "      <td>1</td>\n",
              "      <td>0</td>\n",
              "      <td>0</td>\n",
              "      <td>1</td>\n",
              "      <td>0</td>\n",
              "      <td>1</td>\n",
              "    </tr>\n",
              "    <tr>\n",
              "      <th>875</th>\n",
              "      <td>2.0</td>\n",
              "      <td>15.0</td>\n",
              "      <td>7.2250</td>\n",
              "      <td>1</td>\n",
              "      <td>0</td>\n",
              "      <td>1</td>\n",
              "      <td>0</td>\n",
              "      <td>0</td>\n",
              "      <td>0</td>\n",
              "      <td>1</td>\n",
              "    </tr>\n",
              "    <tr>\n",
              "      <th>92</th>\n",
              "      <td>0.0</td>\n",
              "      <td>46.0</td>\n",
              "      <td>61.1750</td>\n",
              "      <td>0</td>\n",
              "      <td>1</td>\n",
              "      <td>0</td>\n",
              "      <td>0</td>\n",
              "      <td>1</td>\n",
              "      <td>1</td>\n",
              "      <td>0</td>\n",
              "    </tr>\n",
              "  </tbody>\n",
              "</table>\n",
              "<p>801 rows × 10 columns</p>\n",
              "</div>\n",
              "      <button class=\"colab-df-convert\" onclick=\"convertToInteractive('df-271b23d0-a52a-4336-b59c-c036cdc31b04')\"\n",
              "              title=\"Convert this dataframe to an interactive table.\"\n",
              "              style=\"display:none;\">\n",
              "        \n",
              "  <svg xmlns=\"http://www.w3.org/2000/svg\" height=\"24px\"viewBox=\"0 0 24 24\"\n",
              "       width=\"24px\">\n",
              "    <path d=\"M0 0h24v24H0V0z\" fill=\"none\"/>\n",
              "    <path d=\"M18.56 5.44l.94 2.06.94-2.06 2.06-.94-2.06-.94-.94-2.06-.94 2.06-2.06.94zm-11 1L8.5 8.5l.94-2.06 2.06-.94-2.06-.94L8.5 2.5l-.94 2.06-2.06.94zm10 10l.94 2.06.94-2.06 2.06-.94-2.06-.94-.94-2.06-.94 2.06-2.06.94z\"/><path d=\"M17.41 7.96l-1.37-1.37c-.4-.4-.92-.59-1.43-.59-.52 0-1.04.2-1.43.59L10.3 9.45l-7.72 7.72c-.78.78-.78 2.05 0 2.83L4 21.41c.39.39.9.59 1.41.59.51 0 1.02-.2 1.41-.59l7.78-7.78 2.81-2.81c.8-.78.8-2.07 0-2.86zM5.41 20L4 18.59l7.72-7.72 1.47 1.35L5.41 20z\"/>\n",
              "  </svg>\n",
              "      </button>\n",
              "      \n",
              "  <style>\n",
              "    .colab-df-container {\n",
              "      display:flex;\n",
              "      flex-wrap:wrap;\n",
              "      gap: 12px;\n",
              "    }\n",
              "\n",
              "    .colab-df-convert {\n",
              "      background-color: #E8F0FE;\n",
              "      border: none;\n",
              "      border-radius: 50%;\n",
              "      cursor: pointer;\n",
              "      display: none;\n",
              "      fill: #1967D2;\n",
              "      height: 32px;\n",
              "      padding: 0 0 0 0;\n",
              "      width: 32px;\n",
              "    }\n",
              "\n",
              "    .colab-df-convert:hover {\n",
              "      background-color: #E2EBFA;\n",
              "      box-shadow: 0px 1px 2px rgba(60, 64, 67, 0.3), 0px 1px 3px 1px rgba(60, 64, 67, 0.15);\n",
              "      fill: #174EA6;\n",
              "    }\n",
              "\n",
              "    [theme=dark] .colab-df-convert {\n",
              "      background-color: #3B4455;\n",
              "      fill: #D2E3FC;\n",
              "    }\n",
              "\n",
              "    [theme=dark] .colab-df-convert:hover {\n",
              "      background-color: #434B5C;\n",
              "      box-shadow: 0px 1px 3px 1px rgba(0, 0, 0, 0.15);\n",
              "      filter: drop-shadow(0px 1px 2px rgba(0, 0, 0, 0.3));\n",
              "      fill: #FFFFFF;\n",
              "    }\n",
              "  </style>\n",
              "\n",
              "      <script>\n",
              "        const buttonEl =\n",
              "          document.querySelector('#df-271b23d0-a52a-4336-b59c-c036cdc31b04 button.colab-df-convert');\n",
              "        buttonEl.style.display =\n",
              "          google.colab.kernel.accessAllowed ? 'block' : 'none';\n",
              "\n",
              "        async function convertToInteractive(key) {\n",
              "          const element = document.querySelector('#df-271b23d0-a52a-4336-b59c-c036cdc31b04');\n",
              "          const dataTable =\n",
              "            await google.colab.kernel.invokeFunction('convertToInteractive',\n",
              "                                                     [key], {});\n",
              "          if (!dataTable) return;\n",
              "\n",
              "          const docLinkHtml = 'Like what you see? Visit the ' +\n",
              "            '<a target=\"_blank\" href=https://colab.research.google.com/notebooks/data_table.ipynb>data table notebook</a>'\n",
              "            + ' to learn more about interactive tables.';\n",
              "          element.innerHTML = '';\n",
              "          dataTable['output_type'] = 'display_data';\n",
              "          await google.colab.output.renderOutput(dataTable, element);\n",
              "          const docLink = document.createElement('div');\n",
              "          docLink.innerHTML = docLinkHtml;\n",
              "          element.appendChild(docLink);\n",
              "        }\n",
              "      </script>\n",
              "    </div>\n",
              "  </div>\n",
              "  "
            ],
            "text/plain": [
              "     Pclass   Age      Fare  Sex_female  Sex_male  Embarked_C  Embarked_Q  \\\n",
              "293     2.0  24.0    8.8500           1         0           0           0   \n",
              "441     2.0  20.0    9.5000           0         1           0           0   \n",
              "164     2.0   1.0   39.6875           0         1           0           0   \n",
              "472     1.0  33.0   27.7500           1         0           0           0   \n",
              "44      2.0  19.0    7.8792           1         0           0           1   \n",
              "..      ...   ...       ...         ...       ...         ...         ...   \n",
              "433     2.0  17.0    7.1250           0         1           0           0   \n",
              "390     0.0  36.0  120.0000           0         1           0           0   \n",
              "168     0.0  24.0   25.9250           0         1           0           0   \n",
              "875     2.0  15.0    7.2250           1         0           1           0   \n",
              "92      0.0  46.0   61.1750           0         1           0           0   \n",
              "\n",
              "     Embarked_S  Family  Alone  \n",
              "293           1       0      1  \n",
              "441           1       0      1  \n",
              "164           1       5      0  \n",
              "472           1       3      0  \n",
              "44            0       0      1  \n",
              "..          ...     ...    ...  \n",
              "433           1       0      1  \n",
              "390           1       3      0  \n",
              "168           1       0      1  \n",
              "875           0       0      1  \n",
              "92            1       1      0  \n",
              "\n",
              "[801 rows x 10 columns]"
            ]
          },
          "execution_count": 34,
          "metadata": {},
          "output_type": "execute_result"
        }
      ],
      "source": [
        "X_train"
      ]
    },
    {
      "cell_type": "code",
      "execution_count": null,
      "metadata": {
        "id": "lFGI7xricV09"
      },
      "outputs": [],
      "source": [
        "model=RandomForestClassifier()\n",
        "param_grid = {\n",
        "                 'n_estimators': [5, 10, 15, 20,30],\n",
        "                 'max_depth': [2, 5, 7, 9,11,15,20]\n",
        "             }"
      ]
    },
    {
      "cell_type": "code",
      "execution_count": null,
      "metadata": {
        "colab": {
          "base_uri": "https://localhost:8080/"
        },
        "id": "6fbAKTnKcdGd",
        "outputId": "4b62313a-4aa2-4b9d-81ff-1630be65c876"
      },
      "outputs": [
        {
          "data": {
            "text/plain": [
              "GridSearchCV(cv=10, estimator=RandomForestClassifier(),\n",
              "             param_grid={'max_depth': [2, 5, 7, 9, 11, 15, 20],\n",
              "                         'n_estimators': [5, 10, 15, 20, 30]})"
            ]
          },
          "execution_count": 36,
          "metadata": {},
          "output_type": "execute_result"
        }
      ],
      "source": [
        "grid_clf = GridSearchCV(model, param_grid, cv=10)\n",
        "grid_clf.fit(X_train, y_train)"
      ]
    },
    {
      "cell_type": "code",
      "execution_count": null,
      "metadata": {
        "colab": {
          "base_uri": "https://localhost:8080/"
        },
        "id": "bmEy9nLkmaKs",
        "outputId": "6cdd1a6f-b49a-44c1-d9c4-8daf851e0cc6"
      },
      "outputs": [
        {
          "data": {
            "text/plain": [
              "XGBClassifier()"
            ]
          },
          "execution_count": 37,
          "metadata": {},
          "output_type": "execute_result"
        }
      ],
      "source": [
        "mod=xgb.XGBClassifier()\n",
        "mod.fit(X_train,y_train)"
      ]
    },
    {
      "cell_type": "code",
      "execution_count": null,
      "metadata": {
        "colab": {
          "base_uri": "https://localhost:8080/"
        },
        "id": "lR_73vHnlJ0a",
        "outputId": "f748e2ce-6be1-4599-9177-b5c98680ae34"
      },
      "outputs": [
        {
          "data": {
            "text/plain": [
              "{'max_depth': 9, 'n_estimators': 15}"
            ]
          },
          "execution_count": 38,
          "metadata": {},
          "output_type": "execute_result"
        }
      ],
      "source": [
        "grid_clf.best_params_"
      ]
    },
    {
      "cell_type": "code",
      "execution_count": null,
      "metadata": {
        "id": "5JJfyqeleBnS"
      },
      "outputs": [],
      "source": [
        "final_model=grid_clf.best_estimator_"
      ]
    },
    {
      "cell_type": "code",
      "execution_count": null,
      "metadata": {
        "id": "bCM9s8HWeHgd"
      },
      "outputs": [],
      "source": [
        "from sklearn.metrics import precision_score, recall_score, f1_score, confusion_matrix, classification_report, fbeta_score"
      ]
    },
    {
      "cell_type": "code",
      "execution_count": null,
      "metadata": {
        "id": "Z9VjjQqvepRo"
      },
      "outputs": [],
      "source": [
        "pred=final_model.predict(X_test)\n",
        "predict=mod.predict(X_test)"
      ]
    },
    {
      "cell_type": "code",
      "execution_count": null,
      "metadata": {
        "colab": {
          "base_uri": "https://localhost:8080/"
        },
        "id": "ZtW6EMd3eyZm",
        "outputId": "c901ef16-e0a8-4aac-b0f3-4ba9c5928eed"
      },
      "outputs": [
        {
          "name": "stdout",
          "output_type": "stream",
          "text": [
            "0.8421052631578947 0.8857142857142857\n"
          ]
        }
      ],
      "source": [
        "precision = precision_score(y_test,pred)\n",
        "prec=precision_score(y_test,predict)\n",
        "print(precision,prec)"
      ]
    },
    {
      "cell_type": "code",
      "execution_count": null,
      "metadata": {
        "colab": {
          "base_uri": "https://localhost:8080/"
        },
        "id": "4YbHNyrze5A-",
        "outputId": "48fc2618-2e8a-4428-eca0-f8e2fd241a2f"
      },
      "outputs": [
        {
          "name": "stdout",
          "output_type": "stream",
          "text": [
            "0.7804878048780488 0.7560975609756098\n"
          ]
        }
      ],
      "source": [
        "## recall\n",
        "recall=recall_score(y_test,pred)\n",
        "rec=recall_score(y_test,predict)\n",
        "print(recall,rec)"
      ]
    },
    {
      "cell_type": "code",
      "execution_count": null,
      "metadata": {
        "colab": {
          "base_uri": "https://localhost:8080/"
        },
        "id": "kQe2iimPe8t6",
        "outputId": "e6708a09-887e-415d-8ed7-5d5a9584c92c"
      },
      "outputs": [
        {
          "name": "stdout",
          "output_type": "stream",
          "text": [
            "0.810126582278481 0.8157894736842105\n"
          ]
        }
      ],
      "source": [
        "score=f1_score(y_test,pred)\n",
        "score_g=f1_score(y_test,predict)\n",
        "print(score,score_g)\n"
      ]
    },
    {
      "cell_type": "code",
      "execution_count": null,
      "metadata": {
        "colab": {
          "base_uri": "https://localhost:8080/"
        },
        "id": "aZlQSXCJfCPC",
        "outputId": "f389fcd3-0fab-4669-8942-5744f133dcb3"
      },
      "outputs": [
        {
          "data": {
            "text/plain": [
              "array([[43,  6],\n",
              "       [ 9, 32]])"
            ]
          },
          "execution_count": 45,
          "metadata": {},
          "output_type": "execute_result"
        }
      ],
      "source": [
        "con_matrix=confusion_matrix(y_test,pred)\n",
        "con_matrix"
      ]
    },
    {
      "cell_type": "code",
      "execution_count": null,
      "metadata": {
        "colab": {
          "base_uri": "https://localhost:8080/",
          "height": 313
        },
        "id": "EmREi3-sfINT",
        "outputId": "25b924fa-fa5b-4546-da8e-dd25ae4b5cb6"
      },
      "outputs": [
        {
          "data": {
            "text/plain": [
              "[]"
            ]
          },
          "execution_count": 46,
          "metadata": {},
          "output_type": "execute_result"
        },
        {
          "data": {
            "image/png": "[encoded data removed]",
            "text/plain": [
              "<Figure size 432x288 with 2 Axes>"
            ]
          },
          "metadata": {},
          "output_type": "display_data"
        }
      ],
      "source": [
        "ax=sns.heatmap(con_matrix,annot=True)\n",
        "plt.title('Confusion Matrix')\n",
        "plt.xlabel('Prediction')\n",
        "plt.ylabel('Actual')\n",
        "plt.plot()"
      ]
    },
    {
      "cell_type": "code",
      "execution_count": null,
      "metadata": {
        "colab": {
          "base_uri": "https://localhost:8080/"
        },
        "id": "ergqUHh4fOlW",
        "outputId": "d71fde47-2e8a-4a27-851e-9214c2656a28"
      },
      "outputs": [
        {
          "data": {
            "text/plain": [
              "PassengerId      0\n",
              "Pclass           0\n",
              "Name             0\n",
              "Sex              0\n",
              "Age             86\n",
              "SibSp            0\n",
              "Parch            0\n",
              "Ticket           0\n",
              "Fare             1\n",
              "Cabin          327\n",
              "Embarked         0\n",
              "dtype: int64"
            ]
          },
          "execution_count": 47,
          "metadata": {},
          "output_type": "execute_result"
        }
      ],
      "source": [
        "df_test.isna().sum()"
      ]
    },
    {
      "cell_type": "code",
      "execution_count": null,
      "metadata": {
        "id": "ZblXId-1h-4A"
      },
      "outputs": [],
      "source": [
        "df_test['Age'] = df_test['Age'].fillna(df_test['Age'].mode()[0])\n",
        "df_test['Fare'] = df_test['Fare'].fillna(df_test['Fare'].median())"
      ]
    },
    {
      "cell_type": "code",
      "execution_count": null,
      "metadata": {
        "id": "qn5IZTVqi2Fn"
      },
      "outputs": [],
      "source": [
        "oe=OrdinalEncoder(categories='auto')\n",
        "df_test['Pclass']=oe.fit_transform(df_test[['Pclass']])"
      ]
    },
    {
      "cell_type": "code",
      "execution_count": null,
      "metadata": {
        "id": "y2UbN3mt_mmi"
      },
      "outputs": [],
      "source": [
        ""
      ]
    },
    {
      "cell_type": "code",
      "execution_count": null,
      "metadata": {
        "id": "1h-knJe1i9dv"
      },
      "outputs": [],
      "source": [
        "df_test=pd.concat([df_test,pd.get_dummies(df_test['Sex'],prefix='Sex')],axis=1)\n",
        "df_test.drop(['Sex'],axis=1,inplace=True)"
      ]
    },
    {
      "cell_type": "code",
      "execution_count": null,
      "metadata": {
        "id": "fP1BJXrRjDwo"
      },
      "outputs": [],
      "source": [
        "df_test=pd.concat([df_test,pd.get_dummies(df_test['Embarked'],prefix='Embarked')],axis=1)\n",
        "df_test.drop(['Embarked'],axis=1,inplace=True)"
      ]
    },
    {
      "cell_type": "code",
      "execution_count": null,
      "metadata": {
        "id": "R-x4ZEr1jLqf"
      },
      "outputs": [],
      "source": [
        "df_test.drop('Name',axis=1,inplace=True)"
      ]
    },
    {
      "cell_type": "code",
      "execution_count": null,
      "metadata": {
        "id": "qh9Bd-MVjNxH"
      },
      "outputs": [],
      "source": [
        "df_test.drop('Ticket',axis=1,inplace=True)"
      ]
    },
    {
      "cell_type": "code",
      "execution_count": null,
      "metadata": {
        "id": "XqTZ2USJjQDe"
      },
      "outputs": [],
      "source": [
        "df_test.drop('Cabin',axis=1,inplace=True)"
      ]
    },
    {
      "cell_type": "code",
      "execution_count": null,
      "metadata": {
        "id": "_nt3Z6L2jR6P"
      },
      "outputs": [],
      "source": [
        "idx=df_test['PassengerId']\n",
        "df_test.drop('PassengerId',axis=1,inplace=True)"
      ]
    },
    {
      "cell_type": "code",
      "execution_count": null,
      "metadata": {
        "id": "t7QC_K-glyYh"
      },
      "outputs": [],
      "source": [
        "df_test['Family'] = 0\n",
        "df_test['Family'] = df_test['Parch']+df_test['SibSp']\n",
        "\n",
        "df_test['Alone'] = 0\n",
        "df_test.loc[df_test.Family == 0, 'Alone'] = 1\n",
        "\n",
        "df_test.drop(['Parch','SibSp'],axis=1,inplace=True)"
      ]
    },
    {
      "cell_type": "code",
      "execution_count": null,
      "metadata": {
        "id": "1m6_Qzk9j_K5"
      },
      "outputs": [],
      "source": [
        "prediction=final_model.predict(df_test)\n",
        "predictions=mod.predict(df_test)"
      ]
    },
    {
      "cell_type": "code",
      "execution_count": null,
      "metadata": {
        "id": "xMEicwTekJQe"
      },
      "outputs": [],
      "source": [
        "out=prediction.round().astype(int)\n",
        "outs=predictions.round().astype(int)"
      ]
    },
    {
      "cell_type": "code",
      "execution_count": null,
      "metadata": {
        "colab": {
          "base_uri": "https://localhost:8080/"
        },
        "id": "J_Ltx9-wkMsr",
        "outputId": "66dc5ab8-a9f1-40d7-baf3-9f4c2edb6311"
      },
      "outputs": [
        {
          "data": {
            "text/plain": [
              "numpy.ndarray"
            ]
          },
          "execution_count": 59,
          "metadata": {},
          "output_type": "execute_result"
        }
      ],
      "source": [
        "type(out)"
      ]
    },
    {
      "cell_type": "code",
      "execution_count": null,
      "metadata": {
        "id": "Vj3r8KgEkR4r"
      },
      "outputs": [],
      "source": [
        "final=pd.concat([idx,pd.DataFrame(data=out,columns=['Survived'])],axis=1)\n",
        "finals=pd.concat([idx,pd.DataFrame(data=outs,columns=['Survived'])],axis=1)"
      ]
    },
    {
      "cell_type": "code",
      "execution_count": null,
      "metadata": {
        "colab": {
          "base_uri": "https://localhost:8080/",
          "height": 424
        },
        "id": "Bbiecy-DI0VL",
        "outputId": "2bba1a3e-6104-4041-9552-01027c1b6fb4"
      },
      "outputs": [
        {
          "data": {
            "text/html": [
              "\n",
              "  <div id=\"df-fb4ab817-2ee6-41be-847a-03762f3fe790\">\n",
              "    <div class=\"colab-df-container\">\n",
              "      <div>\n",
              "<style scoped>\n",
              "    .dataframe tbody tr th:only-of-type {\n",
              "        vertical-align: middle;\n",
              "    }\n",
              "\n",
              "    .dataframe tbody tr th {\n",
              "        vertical-align: top;\n",
              "    }\n",
              "\n",
              "    .dataframe thead th {\n",
              "        text-align: right;\n",
              "    }\n",
              "</style>\n",
              "<table border=\"1\" class=\"dataframe\">\n",
              "  <thead>\n",
              "    <tr style=\"text-align: right;\">\n",
              "      <th></th>\n",
              "      <th>PassengerId</th>\n",
              "      <th>Survived</th>\n",
              "    </tr>\n",
              "  </thead>\n",
              "  <tbody>\n",
              "    <tr>\n",
              "      <th>0</th>\n",
              "      <td>892</td>\n",
              "      <td>0</td>\n",
              "    </tr>\n",
              "    <tr>\n",
              "      <th>1</th>\n",
              "      <td>893</td>\n",
              "      <td>0</td>\n",
              "    </tr>\n",
              "    <tr>\n",
              "      <th>2</th>\n",
              "      <td>894</td>\n",
              "      <td>0</td>\n",
              "    </tr>\n",
              "    <tr>\n",
              "      <th>3</th>\n",
              "      <td>895</td>\n",
              "      <td>0</td>\n",
              "    </tr>\n",
              "    <tr>\n",
              "      <th>4</th>\n",
              "      <td>896</td>\n",
              "      <td>1</td>\n",
              "    </tr>\n",
              "    <tr>\n",
              "      <th>...</th>\n",
              "      <td>...</td>\n",
              "      <td>...</td>\n",
              "    </tr>\n",
              "    <tr>\n",
              "      <th>413</th>\n",
              "      <td>1305</td>\n",
              "      <td>0</td>\n",
              "    </tr>\n",
              "    <tr>\n",
              "      <th>414</th>\n",
              "      <td>1306</td>\n",
              "      <td>1</td>\n",
              "    </tr>\n",
              "    <tr>\n",
              "      <th>415</th>\n",
              "      <td>1307</td>\n",
              "      <td>0</td>\n",
              "    </tr>\n",
              "    <tr>\n",
              "      <th>416</th>\n",
              "      <td>1308</td>\n",
              "      <td>0</td>\n",
              "    </tr>\n",
              "    <tr>\n",
              "      <th>417</th>\n",
              "      <td>1309</td>\n",
              "      <td>0</td>\n",
              "    </tr>\n",
              "  </tbody>\n",
              "</table>\n",
              "<p>418 rows × 2 columns</p>\n",
              "</div>\n",
              "      <button class=\"colab-df-convert\" onclick=\"convertToInteractive('df-fb4ab817-2ee6-41be-847a-03762f3fe790')\"\n",
              "              title=\"Convert this dataframe to an interactive table.\"\n",
              "              style=\"display:none;\">\n",
              "        \n",
              "  <svg xmlns=\"http://www.w3.org/2000/svg\" height=\"24px\"viewBox=\"0 0 24 24\"\n",
              "       width=\"24px\">\n",
              "    <path d=\"M0 0h24v24H0V0z\" fill=\"none\"/>\n",
              "    <path d=\"M18.56 5.44l.94 2.06.94-2.06 2.06-.94-2.06-.94-.94-2.06-.94 2.06-2.06.94zm-11 1L8.5 8.5l.94-2.06 2.06-.94-2.06-.94L8.5 2.5l-.94 2.06-2.06.94zm10 10l.94 2.06.94-2.06 2.06-.94-2.06-.94-.94-2.06-.94 2.06-2.06.94z\"/><path d=\"M17.41 7.96l-1.37-1.37c-.4-.4-.92-.59-1.43-.59-.52 0-1.04.2-1.43.59L10.3 9.45l-7.72 7.72c-.78.78-.78 2.05 0 2.83L4 21.41c.39.39.9.59 1.41.59.51 0 1.02-.2 1.41-.59l7.78-7.78 2.81-2.81c.8-.78.8-2.07 0-2.86zM5.41 20L4 18.59l7.72-7.72 1.47 1.35L5.41 20z\"/>\n",
              "  </svg>\n",
              "      </button>\n",
              "      \n",
              "  <style>\n",
              "    .colab-df-container {\n",
              "      display:flex;\n",
              "      flex-wrap:wrap;\n",
              "      gap: 12px;\n",
              "    }\n",
              "\n",
              "    .colab-df-convert {\n",
              "      background-color: #E8F0FE;\n",
              "      border: none;\n",
              "      border-radius: 50%;\n",
              "      cursor: pointer;\n",
              "      display: none;\n",
              "      fill: #1967D2;\n",
              "      height: 32px;\n",
              "      padding: 0 0 0 0;\n",
              "      width: 32px;\n",
              "    }\n",
              "\n",
              "    .colab-df-convert:hover {\n",
              "      background-color: #E2EBFA;\n",
              "      box-shadow: 0px 1px 2px rgba(60, 64, 67, 0.3), 0px 1px 3px 1px rgba(60, 64, 67, 0.15);\n",
              "      fill: #174EA6;\n",
              "    }\n",
              "\n",
              "    [theme=dark] .colab-df-convert {\n",
              "      background-color: #3B4455;\n",
              "      fill: #D2E3FC;\n",
              "    }\n",
              "\n",
              "    [theme=dark] .colab-df-convert:hover {\n",
              "      background-color: #434B5C;\n",
              "      box-shadow: 0px 1px 3px 1px rgba(0, 0, 0, 0.15);\n",
              "      filter: drop-shadow(0px 1px 2px rgba(0, 0, 0, 0.3));\n",
              "      fill: #FFFFFF;\n",
              "    }\n",
              "  </style>\n",
              "\n",
              "      <script>\n",
              "        const buttonEl =\n",
              "          document.querySelector('#df-fb4ab817-2ee6-41be-847a-03762f3fe790 button.colab-df-convert');\n",
              "        buttonEl.style.display =\n",
              "          google.colab.kernel.accessAllowed ? 'block' : 'none';\n",
              "\n",
              "        async function convertToInteractive(key) {\n",
              "          const element = document.querySelector('#df-fb4ab817-2ee6-41be-847a-03762f3fe790');\n",
              "          const dataTable =\n",
              "            await google.colab.kernel.invokeFunction('convertToInteractive',\n",
              "                                                     [key], {});\n",
              "          if (!dataTable) return;\n",
              "\n",
              "          const docLinkHtml = 'Like what you see? Visit the ' +\n",
              "            '<a target=\"_blank\" href=https://colab.research.google.com/notebooks/data_table.ipynb>data table notebook</a>'\n",
              "            + ' to learn more about interactive tables.';\n",
              "          element.innerHTML = '';\n",
              "          dataTable['output_type'] = 'display_data';\n",
              "          await google.colab.output.renderOutput(dataTable, element);\n",
              "          const docLink = document.createElement('div');\n",
              "          docLink.innerHTML = docLinkHtml;\n",
              "          element.appendChild(docLink);\n",
              "        }\n",
              "      </script>\n",
              "    </div>\n",
              "  </div>\n",
              "  "
            ],
            "text/plain": [
              "     PassengerId  Survived\n",
              "0            892         0\n",
              "1            893         0\n",
              "2            894         0\n",
              "3            895         0\n",
              "4            896         1\n",
              "..           ...       ...\n",
              "413         1305         0\n",
              "414         1306         1\n",
              "415         1307         0\n",
              "416         1308         0\n",
              "417         1309         0\n",
              "\n",
              "[418 rows x 2 columns]"
            ]
          },
          "execution_count": 61,
          "metadata": {},
          "output_type": "execute_result"
        }
      ],
      "source": [
        "final"
      ]
    },
    {
      "cell_type": "code",
      "execution_count": null,
      "metadata": {
        "id": "C46KyG_SkY93"
      },
      "outputs": [],
      "source": [
        "final.to_csv('no_deep.csv',index=False)"
      ]
    },
    {
      "cell_type": "code",
      "execution_count": null,
      "metadata": {
        "id": "bccA50teoUwZ"
      },
      "outputs": [],
      "source": [
        "finals.to_csv('xgb.csv',index=False)"
      ]
    },
    {
      "cell_type": "markdown",
      "metadata": {
        "id": "D-_gt2iopuDn"
      },
      "source": [
        "# Pure `torch` model"
      ]
    },
    {
      "cell_type": "code",
      "execution_count": null,
      "metadata": {
        "id": "7qHNtKxD44aX"
      },
      "outputs": [],
      "source": [
        "import torch\n",
        "from torch import nn\n",
        "import torch.nn.functional as F\n",
        "\n",
        "\n",
        "from torch.utils.data import Dataset, DataLoader"
      ]
    },
    {
      "cell_type": "code",
      "execution_count": null,
      "metadata": {
        "id": "tJt0WDtKqLRc"
      },
      "outputs": [],
      "source": [
        "#Create Dataset\n",
        "class Titanic(Dataset):\n",
        "  def __init__(self,x,y):\n",
        "    super().__init__()\n",
        "\n",
        "    #X,y as train and label ds\n",
        "    self.X=torch.tensor(x.to_numpy(),dtype=torch.float32)\n",
        "    self.y=torch.tensor(y.to_numpy(),dtype=torch.float32)\n",
        "\n",
        "  def __len__(self):\n",
        "    return len(self.X)\n",
        "  \n",
        "  \n",
        "  def __getitem__(self,idx):\n",
        "    return self.X[idx],self.y[idx]\n",
        "\n",
        "\n"
      ]
    },
    {
      "cell_type": "code",
      "execution_count": null,
      "metadata": {
        "id": "qc-zZfM86W3v"
      },
      "outputs": [],
      "source": [
        "train_ds=Titanic(X_train,y_train)\n",
        "valid_ds=Titanic(X_test,y_test)"
      ]
    },
    {
      "cell_type": "code",
      "execution_count": null,
      "metadata": {
        "colab": {
          "background_save": true,
          "base_uri": "https://localhost:8080/"
        },
        "id": "f8gevGvj8Y-Y",
        "outputId": "6f80eedd-b05a-4663-83db-a7a7a431b151"
      },
      "outputs": [
        {
          "ename": "NameError",
          "evalue": "ignored",
          "output_type": "error",
          "traceback": [
            "\u001b[0;31m---------------------------------------------------------------------------\u001b[0m",
            "\u001b[0;31mNameError\u001b[0m                                 Traceback (most recent call last)",
            "\u001b[0;32m<ipython-input-1-ae5cd47bda90>\u001b[0m in \u001b[0;36m<module>\u001b[0;34m\u001b[0m\n\u001b[0;32m----> 1\u001b[0;31m \u001b[0mX\u001b[0m\u001b[0;34m.\u001b[0m\u001b[0mhead\u001b[0m\u001b[0;34m(\u001b[0m\u001b[0;34m)\u001b[0m\u001b[0;34m\u001b[0m\u001b[0;34m\u001b[0m\u001b[0m\n\u001b[0m",
            "\u001b[0;31mNameError\u001b[0m: name 'X' is not defined"
          ]
        }
      ],
      "source": [
        "X.head()"
      ]
    },
    {
      "cell_type": "code",
      "execution_count": null,
      "metadata": {
        "colab": {
          "base_uri": "https://localhost:8080/"
        },
        "id": "IBHE8e4K8OxP",
        "outputId": "f38cba60-0338-41e7-8539-815a7047a9ad"
      },
      "outputs": [
        {
          "data": {
            "text/plain": [
              "(tensor([ 2.0000,  1.0000, 39.6875,  0.0000,  1.0000,  0.0000,  0.0000,  1.0000,\n",
              "          5.0000,  0.0000]), tensor(0.))"
            ]
          },
          "execution_count": 68,
          "metadata": {},
          "output_type": "execute_result"
        }
      ],
      "source": [
        "train_ds[2]"
      ]
    },
    {
      "cell_type": "code",
      "execution_count": null,
      "metadata": {
        "colab": {
          "base_uri": "https://localhost:8080/"
        },
        "id": "ukN9rZWHNrtl",
        "outputId": "3e74f78f-183a-4e97-f93e-bd2093c47b0a"
      },
      "outputs": [
        {
          "data": {
            "text/plain": [
              "(tensor([ 2.0000, 24.0000,  7.7500,  0.0000,  1.0000,  0.0000,  1.0000,  0.0000,\n",
              "          0.0000,  1.0000]), tensor(0.))"
            ]
          },
          "execution_count": 69,
          "metadata": {},
          "output_type": "execute_result"
        }
      ],
      "source": [
        "valid_ds[2]"
      ]
    },
    {
      "cell_type": "code",
      "execution_count": null,
      "metadata": {
        "id": "SXUV08Yj_P-p"
      },
      "outputs": [],
      "source": [
        "# Create Dataloader\n",
        "train_dl =DataLoader(train_ds,\n",
        "                     batch_size=128,\n",
        "                     shuffle=True,\n",
        "                     )\n",
        "valid_dl =DataLoader(valid_ds,\n",
        "                     batch_size=128,\n",
        "                     \n",
        "                     )"
      ]
    },
    {
      "cell_type": "code",
      "execution_count": null,
      "metadata": {
        "colab": {
          "base_uri": "https://localhost:8080/"
        },
        "id": "YH-bs4IYBwyq",
        "outputId": "aa6f32cc-4837-483e-e6fc-a2a4959bd9e0"
      },
      "outputs": [
        {
          "name": "stdout",
          "output_type": "stream",
          "text": [
            "10\n"
          ]
        }
      ],
      "source": [
        "train_iter=iter(train_dl)\n",
        "input,label=train_iter.next()\n",
        "print(input.shape[1])"
      ]
    },
    {
      "cell_type": "code",
      "execution_count": null,
      "metadata": {
        "id": "iiGn8jLZBdub"
      },
      "outputs": [],
      "source": [
        "#build model\n",
        "def model(input_features,output_features,n_label):\n",
        "  \n",
        "  \n",
        "  model=nn.Sequential(\n",
        "      nn.Linear(input_features,output_features),\n",
        "      nn.ReLU(),\n",
        "      nn.BatchNorm1d(output_features),\n",
        "      nn.Dropout(.2),\n",
        "      nn.Linear(int(output_features),int(output_features)),\n",
        "      nn.ReLU(),\n",
        "      nn.BatchNorm1d(int(output_features)),\n",
        "      nn.Dropout(.2),\n",
        "      nn.Linear(int(output_features),n_label)\n",
        "      \n",
        "                      )\n",
        "  return model\n"
      ]
    },
    {
      "cell_type": "code",
      "execution_count": null,
      "metadata": {
        "id": "1bNm3EIrDGl5"
      },
      "outputs": [],
      "source": [
        "model=model(10,256,1)"
      ]
    },
    {
      "cell_type": "code",
      "execution_count": null,
      "metadata": {
        "id": "xXMkx-v7Ggq5"
      },
      "outputs": [],
      "source": [
        "device = torch.device(\"cuda\")\n",
        "try:\n",
        "  model.to(device)\n",
        "except:\n",
        "  print('Model device: ', next(model.parameters()).device)"
      ]
    },
    {
      "cell_type": "code",
      "execution_count": null,
      "metadata": {
        "colab": {
          "base_uri": "https://localhost:8080/"
        },
        "id": "lXYD8RYBHT_m",
        "outputId": "d7ffa407-3bff-4232-845f-3ce18401a222"
      },
      "outputs": [
        {
          "data": {
            "text/plain": [
              "9"
            ]
          },
          "execution_count": 115,
          "metadata": {},
          "output_type": "execute_result"
        }
      ],
      "source": [
        "len(model)"
      ]
    },
    {
      "cell_type": "code",
      "execution_count": null,
      "metadata": {
        "colab": {
          "base_uri": "https://localhost:8080/"
        },
        "id": "ybso0ZEZHf6l",
        "outputId": "607846fd-a680-4cff-dd66-9146f2ec190f"
      },
      "outputs": [
        {
          "data": {
            "text/plain": [
              "torch.Size([128, 1])"
            ]
          },
          "execution_count": 116,
          "metadata": {},
          "output_type": "execute_result"
        }
      ],
      "source": [
        "for x_b, y_b in train_dl:\n",
        "    break\n",
        "model(x_b.to(device)).shape\n",
        "\n"
      ]
    },
    {
      "cell_type": "code",
      "execution_count": null,
      "metadata": {
        "id": "MC7bjqD_IllS"
      },
      "outputs": [],
      "source": [
        "#loss_func = nn.CrossEntropyLoss()\n",
        "loss_func=nn.BCEWithLogitsLoss()\n",
        "opt = torch.optim.Adam(model.parameters(),lr=.001)\n",
        "metric = torchmetrics.F1Score()"
      ]
    },
    {
      "cell_type": "code",
      "execution_count": null,
      "metadata": {
        "id": "ojbE0rxyJwbL"
      },
      "outputs": [],
      "source": [
        "def train_step(x_b, y_b):\n",
        "\n",
        "    x_b = x_b.to(device)\n",
        "    y_b = y_b.to(device)\n",
        "  \n",
        "    yhat = model(x_b)\n",
        "    \n",
        " \n",
        "    loss = loss_func(yhat,y_b)\n",
        " \n",
        "    loss.backward()\n",
        "\n",
        "    opt.step()\n",
        "    opt.zero_grad()\n",
        "\n",
        "\n",
        "    batch_acc = metric(yhat.cpu(), y_b.cpu())\n",
        "\n",
        "\n",
        "    return loss"
      ]
    },
    {
      "cell_type": "code",
      "execution_count": null,
      "metadata": {
        "id": "Ena2N1KKJ2ui"
      },
      "outputs": [],
      "source": [
        "def validation_step(x_b, y_b):\n",
        "    \n",
        "    x_b = x_b.to(device)\n",
        "    y_b = y_b.to(device)\n",
        "    \n",
        "    with torch.no_grad():\n",
        "        \n",
        "        yhat =model(x_b)\n",
        "       \n",
        "        loss =loss_func(yhat,y_b)\n",
        "\n",
        "\n",
        "    batch_acc = metric(yhat.cpu(), y_b.cpu())\n",
        "\n",
        "   \n",
        "    return loss"
      ]
    },
    {
      "cell_type": "code",
      "execution_count": null,
      "metadata": {
        "id": "8JL5H1MmN-rs"
      },
      "outputs": [],
      "source": [
        "N_EPOCHS = 200"
      ]
    },
    {
      "cell_type": "code",
      "execution_count": null,
      "metadata": {
        "colab": {
          "base_uri": "https://localhost:8080/"
        },
        "id": "8Lw1y3dTOBkf",
        "outputId": "0b619077-ae26-480c-e33b-1d943b60d945"
      },
      "outputs": [
        {
          "name": "stdout",
          "output_type": "stream",
          "text": [
            "Epoch: 0, Train loss: 0.6888 Train acc: 0.4483, Valid loss: 0.6393029689788818 Valid Acc: 0.4491\n",
            "Epoch: 1, Train loss: 0.6157 Train acc: 0.4612, Valid loss: 0.6305630207061768 Valid Acc: 0.4552\n",
            "Epoch: 2, Train loss: 0.5799 Train acc: 0.4969, Valid loss: 0.575120747089386 Valid Acc: 0.5009\n",
            "Epoch: 3, Train loss: 0.5523 Train acc: 0.5243, Valid loss: 0.5586776733398438 Valid Acc: 0.5232\n",
            "Epoch: 4, Train loss: 0.5246 Train acc: 0.5436, Valid loss: 0.49978938698768616 Valid Acc: 0.5447\n",
            "Epoch: 5, Train loss: 0.4978 Train acc: 0.5677, Valid loss: 0.476225346326828 Valid Acc: 0.5690\n",
            "Epoch: 6, Train loss: 0.5051 Train acc: 0.5842, Valid loss: 0.44827160239219666 Valid Acc: 0.5862\n",
            "Epoch: 7, Train loss: 0.5230 Train acc: 0.5966, Valid loss: 0.49395838379859924 Valid Acc: 0.5977\n",
            "Epoch: 8, Train loss: 0.4790 Train acc: 0.6064, Valid loss: 0.440820574760437 Valid Acc: 0.6080\n",
            "Epoch: 9, Train loss: 0.4674 Train acc: 0.6153, Valid loss: 0.453850656747818 Valid Acc: 0.6164\n",
            "Epoch: 10, Train loss: 0.4642 Train acc: 0.6251, Valid loss: 0.4246150553226471 Valid Acc: 0.6265\n",
            "Epoch: 11, Train loss: 0.4611 Train acc: 0.6303, Valid loss: 0.4731837511062622 Valid Acc: 0.6307\n",
            "Epoch: 12, Train loss: 0.4554 Train acc: 0.6356, Valid loss: 0.41692060232162476 Valid Acc: 0.6363\n",
            "Epoch: 13, Train loss: 0.4482 Train acc: 0.6405, Valid loss: 0.4288775324821472 Valid Acc: 0.6408\n",
            "Epoch: 14, Train loss: 0.4396 Train acc: 0.6440, Valid loss: 0.4367424249649048 Valid Acc: 0.6444\n",
            "Epoch: 15, Train loss: 0.4389 Train acc: 0.6482, Valid loss: 0.43513408303260803 Valid Acc: 0.6485\n",
            "Epoch: 16, Train loss: 0.4275 Train acc: 0.6518, Valid loss: 0.4281200170516968 Valid Acc: 0.6517\n",
            "Epoch: 17, Train loss: 0.4527 Train acc: 0.6551, Valid loss: 0.43598440289497375 Valid Acc: 0.6553\n",
            "Epoch: 18, Train loss: 0.4423 Train acc: 0.6564, Valid loss: 0.42728671431541443 Valid Acc: 0.6564\n",
            "Epoch: 19, Train loss: 0.4469 Train acc: 0.6576, Valid loss: 0.4589744806289673 Valid Acc: 0.6575\n",
            "Epoch: 20, Train loss: 0.4235 Train acc: 0.6589, Valid loss: 0.42084553837776184 Valid Acc: 0.6592\n",
            "Epoch: 21, Train loss: 0.4106 Train acc: 0.6603, Valid loss: 0.40753743052482605 Valid Acc: 0.6607\n",
            "Epoch: 22, Train loss: 0.4397 Train acc: 0.6629, Valid loss: 0.44998815655708313 Valid Acc: 0.6629\n",
            "Epoch: 23, Train loss: 0.4417 Train acc: 0.6639, Valid loss: 0.43170082569122314 Valid Acc: 0.6640\n",
            "Epoch: 24, Train loss: 0.4349 Train acc: 0.6646, Valid loss: 0.43194127082824707 Valid Acc: 0.6648\n",
            "Epoch: 25, Train loss: 0.4146 Train acc: 0.6649, Valid loss: 0.4236714243888855 Valid Acc: 0.6652\n",
            "Epoch: 26, Train loss: 0.4185 Train acc: 0.6660, Valid loss: 0.4257378578186035 Valid Acc: 0.6663\n",
            "Epoch: 27, Train loss: 0.4223 Train acc: 0.6680, Valid loss: 0.40292850136756897 Valid Acc: 0.6682\n",
            "Epoch: 28, Train loss: 0.4200 Train acc: 0.6698, Valid loss: 0.4012914001941681 Valid Acc: 0.6700\n",
            "Epoch: 29, Train loss: 0.4096 Train acc: 0.6711, Valid loss: 0.41709452867507935 Valid Acc: 0.6713\n",
            "Epoch: 30, Train loss: 0.4285 Train acc: 0.6721, Valid loss: 0.4537300169467926 Valid Acc: 0.6722\n",
            "Epoch: 31, Train loss: 0.4052 Train acc: 0.6734, Valid loss: 0.4178917407989502 Valid Acc: 0.6736\n",
            "Epoch: 32, Train loss: 0.4281 Train acc: 0.6739, Valid loss: 0.4091055989265442 Valid Acc: 0.6741\n",
            "Epoch: 33, Train loss: 0.4118 Train acc: 0.6750, Valid loss: 0.44651952385902405 Valid Acc: 0.6751\n",
            "Epoch: 34, Train loss: 0.4100 Train acc: 0.6760, Valid loss: 0.4273521602153778 Valid Acc: 0.6761\n",
            "Epoch: 35, Train loss: 0.3948 Train acc: 0.6770, Valid loss: 0.4384007751941681 Valid Acc: 0.6772\n",
            "Epoch: 36, Train loss: 0.3869 Train acc: 0.6776, Valid loss: 0.43082395195961 Valid Acc: 0.6776\n",
            "Epoch: 37, Train loss: 0.3954 Train acc: 0.6786, Valid loss: 0.4309166967868805 Valid Acc: 0.6787\n",
            "Epoch: 38, Train loss: 0.4223 Train acc: 0.6792, Valid loss: 0.40568697452545166 Valid Acc: 0.6793\n",
            "Epoch: 39, Train loss: 0.3864 Train acc: 0.6805, Valid loss: 0.42057305574417114 Valid Acc: 0.6806\n",
            "Epoch: 40, Train loss: 0.4139 Train acc: 0.6817, Valid loss: 0.4402203857898712 Valid Acc: 0.6818\n",
            "Epoch: 41, Train loss: 0.4172 Train acc: 0.6825, Valid loss: 0.41570261120796204 Valid Acc: 0.6826\n",
            "Epoch: 42, Train loss: 0.4172 Train acc: 0.6832, Valid loss: 0.43023037910461426 Valid Acc: 0.6834\n",
            "Epoch: 43, Train loss: 0.4077 Train acc: 0.6839, Valid loss: 0.42671310901641846 Valid Acc: 0.6840\n",
            "Epoch: 44, Train loss: 0.4054 Train acc: 0.6847, Valid loss: 0.43309885263442993 Valid Acc: 0.6848\n",
            "Epoch: 45, Train loss: 0.4143 Train acc: 0.6848, Valid loss: 0.43234431743621826 Valid Acc: 0.6848\n",
            "Epoch: 46, Train loss: 0.3870 Train acc: 0.6856, Valid loss: 0.42312315106391907 Valid Acc: 0.6857\n",
            "Epoch: 47, Train loss: 0.4235 Train acc: 0.6865, Valid loss: 0.4427737891674042 Valid Acc: 0.6866\n",
            "Epoch: 48, Train loss: 0.4406 Train acc: 0.6874, Valid loss: 0.48558300733566284 Valid Acc: 0.6874\n",
            "Epoch: 49, Train loss: 0.4053 Train acc: 0.6879, Valid loss: 0.44202741980552673 Valid Acc: 0.6880\n",
            "Epoch: 50, Train loss: 0.4061 Train acc: 0.6883, Valid loss: 0.4337642788887024 Valid Acc: 0.6884\n",
            "Epoch: 51, Train loss: 0.4153 Train acc: 0.6886, Valid loss: 0.45006129145622253 Valid Acc: 0.6886\n",
            "Epoch: 52, Train loss: 0.4104 Train acc: 0.6891, Valid loss: 0.4278596043586731 Valid Acc: 0.6892\n",
            "Epoch: 53, Train loss: 0.3835 Train acc: 0.6892, Valid loss: 0.44469335675239563 Valid Acc: 0.6892\n",
            "Epoch: 54, Train loss: 0.4277 Train acc: 0.6895, Valid loss: 0.45389285683631897 Valid Acc: 0.6895\n",
            "Epoch: 55, Train loss: 0.4310 Train acc: 0.6900, Valid loss: 0.4600697159767151 Valid Acc: 0.6900\n",
            "Epoch: 56, Train loss: 0.4042 Train acc: 0.6902, Valid loss: 0.43836015462875366 Valid Acc: 0.6902\n",
            "Epoch: 57, Train loss: 0.4210 Train acc: 0.6904, Valid loss: 0.4216400384902954 Valid Acc: 0.6905\n",
            "Epoch: 58, Train loss: 0.4002 Train acc: 0.6907, Valid loss: 0.433937668800354 Valid Acc: 0.6908\n",
            "Epoch: 59, Train loss: 0.4010 Train acc: 0.6915, Valid loss: 0.43730562925338745 Valid Acc: 0.6916\n",
            "Epoch: 60, Train loss: 0.3952 Train acc: 0.6922, Valid loss: 0.4162686765193939 Valid Acc: 0.6923\n",
            "Epoch: 61, Train loss: 0.3969 Train acc: 0.6927, Valid loss: 0.42254015803337097 Valid Acc: 0.6928\n",
            "Epoch: 62, Train loss: 0.3912 Train acc: 0.6932, Valid loss: 0.4530477821826935 Valid Acc: 0.6932\n",
            "Epoch: 63, Train loss: 0.3872 Train acc: 0.6937, Valid loss: 0.4525221288204193 Valid Acc: 0.6938\n",
            "Epoch: 64, Train loss: 0.4278 Train acc: 0.6942, Valid loss: 0.45989736914634705 Valid Acc: 0.6942\n",
            "Epoch: 65, Train loss: 0.4407 Train acc: 0.6942, Valid loss: 0.431413859128952 Valid Acc: 0.6943\n",
            "Epoch: 66, Train loss: 0.3883 Train acc: 0.6949, Valid loss: 0.43463727831840515 Valid Acc: 0.6950\n",
            "Epoch: 67, Train loss: 0.4329 Train acc: 0.6954, Valid loss: 0.4258354604244232 Valid Acc: 0.6954\n",
            "Epoch: 68, Train loss: 0.3915 Train acc: 0.6958, Valid loss: 0.4624508321285248 Valid Acc: 0.6958\n",
            "Epoch: 69, Train loss: 0.4113 Train acc: 0.6960, Valid loss: 0.4821120500564575 Valid Acc: 0.6960\n",
            "Epoch: 70, Train loss: 0.3807 Train acc: 0.6964, Valid loss: 0.4685538411140442 Valid Acc: 0.6964\n",
            "Epoch: 71, Train loss: 0.4005 Train acc: 0.6967, Valid loss: 0.45837241411209106 Valid Acc: 0.6968\n",
            "Epoch: 72, Train loss: 0.3978 Train acc: 0.6969, Valid loss: 0.4476092457771301 Valid Acc: 0.6970\n",
            "Epoch: 73, Train loss: 0.3878 Train acc: 0.6972, Valid loss: 0.44021546840667725 Valid Acc: 0.6973\n",
            "Epoch: 74, Train loss: 0.3694 Train acc: 0.6978, Valid loss: 0.43520551919937134 Valid Acc: 0.6977\n",
            "Epoch: 75, Train loss: 0.3946 Train acc: 0.6980, Valid loss: 0.44027847051620483 Valid Acc: 0.6980\n",
            "Epoch: 76, Train loss: 0.3744 Train acc: 0.6984, Valid loss: 0.43801599740982056 Valid Acc: 0.6985\n",
            "Epoch: 77, Train loss: 0.3865 Train acc: 0.6990, Valid loss: 0.45356327295303345 Valid Acc: 0.6990\n",
            "Epoch: 78, Train loss: 0.4042 Train acc: 0.6995, Valid loss: 0.46159499883651733 Valid Acc: 0.6995\n",
            "Epoch: 79, Train loss: 0.3778 Train acc: 0.7001, Valid loss: 0.5212306976318359 Valid Acc: 0.7000\n",
            "Epoch: 80, Train loss: 0.3767 Train acc: 0.7005, Valid loss: 0.5128737688064575 Valid Acc: 0.7004\n",
            "Epoch: 81, Train loss: 0.3913 Train acc: 0.7007, Valid loss: 0.467958927154541 Valid Acc: 0.7007\n",
            "Epoch: 82, Train loss: 0.4046 Train acc: 0.7010, Valid loss: 0.453595906496048 Valid Acc: 0.7010\n",
            "Epoch: 83, Train loss: 0.4031 Train acc: 0.7014, Valid loss: 0.45634725689888 Valid Acc: 0.7013\n",
            "Epoch: 84, Train loss: 0.3976 Train acc: 0.7017, Valid loss: 0.463828980922699 Valid Acc: 0.7017\n",
            "Epoch: 85, Train loss: 0.4021 Train acc: 0.7020, Valid loss: 0.45181581377983093 Valid Acc: 0.7020\n",
            "Epoch: 86, Train loss: 0.3640 Train acc: 0.7022, Valid loss: 0.45151636004447937 Valid Acc: 0.7022\n",
            "Epoch: 87, Train loss: 0.3989 Train acc: 0.7025, Valid loss: 0.4706728160381317 Valid Acc: 0.7025\n",
            "Epoch: 88, Train loss: 0.3993 Train acc: 0.7028, Valid loss: 0.46289682388305664 Valid Acc: 0.7028\n",
            "Epoch: 89, Train loss: 0.3927 Train acc: 0.7032, Valid loss: 0.46785303950309753 Valid Acc: 0.7031\n",
            "Epoch: 90, Train loss: 0.3948 Train acc: 0.7034, Valid loss: 0.4770689308643341 Valid Acc: 0.7034\n",
            "Epoch: 91, Train loss: 0.3770 Train acc: 0.7036, Valid loss: 0.4821823239326477 Valid Acc: 0.7035\n",
            "Epoch: 92, Train loss: 0.3835 Train acc: 0.7037, Valid loss: 0.45663541555404663 Valid Acc: 0.7037\n",
            "Epoch: 93, Train loss: 0.4050 Train acc: 0.7038, Valid loss: 0.4641760587692261 Valid Acc: 0.7037\n",
            "Epoch: 94, Train loss: 0.3707 Train acc: 0.7039, Valid loss: 0.44867441058158875 Valid Acc: 0.7039\n",
            "Epoch: 95, Train loss: 0.3868 Train acc: 0.7042, Valid loss: 0.452713280916214 Valid Acc: 0.7042\n",
            "Epoch: 96, Train loss: 0.3970 Train acc: 0.7045, Valid loss: 0.46112751960754395 Valid Acc: 0.7045\n",
            "Epoch: 97, Train loss: 0.3722 Train acc: 0.7047, Valid loss: 0.45475977659225464 Valid Acc: 0.7047\n",
            "Epoch: 98, Train loss: 0.3748 Train acc: 0.7050, Valid loss: 0.43105384707450867 Valid Acc: 0.7050\n",
            "Epoch: 99, Train loss: 0.3647 Train acc: 0.7053, Valid loss: 0.460210382938385 Valid Acc: 0.7053\n",
            "Epoch: 100, Train loss: 0.3909 Train acc: 0.7057, Valid loss: 0.4370447099208832 Valid Acc: 0.7057\n",
            "Epoch: 101, Train loss: 0.4020 Train acc: 0.7059, Valid loss: 0.4396350085735321 Valid Acc: 0.7058\n",
            "Epoch: 102, Train loss: 0.3847 Train acc: 0.7061, Valid loss: 0.46181151270866394 Valid Acc: 0.7060\n",
            "Epoch: 103, Train loss: 0.3719 Train acc: 0.7063, Valid loss: 0.45952415466308594 Valid Acc: 0.7062\n",
            "Epoch: 104, Train loss: 0.3897 Train acc: 0.7065, Valid loss: 0.43985646963119507 Valid Acc: 0.7065\n",
            "Epoch: 105, Train loss: 0.3637 Train acc: 0.7068, Valid loss: 0.44372233748435974 Valid Acc: 0.7069\n",
            "Epoch: 106, Train loss: 0.3929 Train acc: 0.7072, Valid loss: 0.45602601766586304 Valid Acc: 0.7072\n",
            "Epoch: 107, Train loss: 0.3881 Train acc: 0.7075, Valid loss: 0.44797390699386597 Valid Acc: 0.7075\n",
            "Epoch: 108, Train loss: 0.3866 Train acc: 0.7078, Valid loss: 0.46373918652534485 Valid Acc: 0.7077\n",
            "Epoch: 109, Train loss: 0.3778 Train acc: 0.7078, Valid loss: 0.43239036202430725 Valid Acc: 0.7078\n",
            "Epoch: 110, Train loss: 0.3831 Train acc: 0.7079, Valid loss: 0.4371536672115326 Valid Acc: 0.7079\n",
            "Epoch: 111, Train loss: 0.3697 Train acc: 0.7082, Valid loss: 0.4816945493221283 Valid Acc: 0.7081\n",
            "Epoch: 112, Train loss: 0.3749 Train acc: 0.7084, Valid loss: 0.4437841773033142 Valid Acc: 0.7084\n",
            "Epoch: 113, Train loss: 0.3557 Train acc: 0.7087, Valid loss: 0.4492327868938446 Valid Acc: 0.7087\n",
            "Epoch: 114, Train loss: 0.3913 Train acc: 0.7090, Valid loss: 0.45285695791244507 Valid Acc: 0.7090\n",
            "Epoch: 115, Train loss: 0.3564 Train acc: 0.7092, Valid loss: 0.4487532079219818 Valid Acc: 0.7092\n",
            "Epoch: 116, Train loss: 0.3679 Train acc: 0.7094, Valid loss: 0.4689963459968567 Valid Acc: 0.7094\n",
            "Epoch: 117, Train loss: 0.3552 Train acc: 0.7097, Valid loss: 0.4664376974105835 Valid Acc: 0.7097\n",
            "Epoch: 118, Train loss: 0.3729 Train acc: 0.7099, Valid loss: 0.4698593318462372 Valid Acc: 0.7099\n",
            "Epoch: 119, Train loss: 0.3579 Train acc: 0.7102, Valid loss: 0.4616330862045288 Valid Acc: 0.7102\n",
            "Epoch: 120, Train loss: 0.3875 Train acc: 0.7105, Valid loss: 0.44576454162597656 Valid Acc: 0.7105\n",
            "Epoch: 121, Train loss: 0.3728 Train acc: 0.7108, Valid loss: 0.47003665566444397 Valid Acc: 0.7108\n",
            "Epoch: 122, Train loss: 0.3994 Train acc: 0.7109, Valid loss: 0.4851917028427124 Valid Acc: 0.7109\n",
            "Epoch: 123, Train loss: 0.4114 Train acc: 0.7111, Valid loss: 0.4541685879230499 Valid Acc: 0.7111\n",
            "Epoch: 124, Train loss: 0.3728 Train acc: 0.7113, Valid loss: 0.46088555455207825 Valid Acc: 0.7113\n",
            "Epoch: 125, Train loss: 0.3881 Train acc: 0.7114, Valid loss: 0.4695746600627899 Valid Acc: 0.7114\n",
            "Epoch: 126, Train loss: 0.3799 Train acc: 0.7116, Valid loss: 0.45103269815444946 Valid Acc: 0.7116\n",
            "Epoch: 127, Train loss: 0.3570 Train acc: 0.7117, Valid loss: 0.44338786602020264 Valid Acc: 0.7117\n",
            "Epoch: 128, Train loss: 0.3771 Train acc: 0.7118, Valid loss: 0.44787123799324036 Valid Acc: 0.7118\n",
            "Epoch: 129, Train loss: 0.3591 Train acc: 0.7121, Valid loss: 0.4659786820411682 Valid Acc: 0.7121\n",
            "Epoch: 130, Train loss: 0.3844 Train acc: 0.7124, Valid loss: 0.4427366554737091 Valid Acc: 0.7124\n",
            "Epoch: 131, Train loss: 0.3526 Train acc: 0.7127, Valid loss: 0.4621835947036743 Valid Acc: 0.7127\n",
            "Epoch: 132, Train loss: 0.3625 Train acc: 0.7128, Valid loss: 0.4544248580932617 Valid Acc: 0.7129\n",
            "Epoch: 133, Train loss: 0.3637 Train acc: 0.7131, Valid loss: 0.46450814604759216 Valid Acc: 0.7132\n",
            "Epoch: 134, Train loss: 0.3723 Train acc: 0.7133, Valid loss: 0.48295822739601135 Valid Acc: 0.7133\n",
            "Epoch: 135, Train loss: 0.3708 Train acc: 0.7135, Valid loss: 0.4690983295440674 Valid Acc: 0.7135\n",
            "Epoch: 136, Train loss: 0.3712 Train acc: 0.7137, Valid loss: 0.45927539467811584 Valid Acc: 0.7137\n",
            "Epoch: 137, Train loss: 0.3827 Train acc: 0.7139, Valid loss: 0.4682999551296234 Valid Acc: 0.7139\n",
            "Epoch: 138, Train loss: 0.3681 Train acc: 0.7141, Valid loss: 0.49355465173721313 Valid Acc: 0.7141\n",
            "Epoch: 139, Train loss: 0.4135 Train acc: 0.7143, Valid loss: 0.49112600088119507 Valid Acc: 0.7143\n",
            "Epoch: 140, Train loss: 0.3817 Train acc: 0.7144, Valid loss: 0.4584188759326935 Valid Acc: 0.7144\n",
            "Epoch: 141, Train loss: 0.3767 Train acc: 0.7146, Valid loss: 0.4558698236942291 Valid Acc: 0.7146\n",
            "Epoch: 142, Train loss: 0.3458 Train acc: 0.7149, Valid loss: 0.459479957818985 Valid Acc: 0.7150\n",
            "Epoch: 143, Train loss: 0.3924 Train acc: 0.7151, Valid loss: 0.48650234937667847 Valid Acc: 0.7150\n",
            "Epoch: 144, Train loss: 0.3757 Train acc: 0.7153, Valid loss: 0.4501354694366455 Valid Acc: 0.7153\n",
            "Epoch: 145, Train loss: 0.3644 Train acc: 0.7155, Valid loss: 0.4759162962436676 Valid Acc: 0.7155\n",
            "Epoch: 146, Train loss: 0.3990 Train acc: 0.7156, Valid loss: 0.4712153971195221 Valid Acc: 0.7156\n",
            "Epoch: 147, Train loss: 0.3640 Train acc: 0.7159, Valid loss: 0.48685917258262634 Valid Acc: 0.7159\n",
            "Epoch: 148, Train loss: 0.3679 Train acc: 0.7162, Valid loss: 0.48314109444618225 Valid Acc: 0.7161\n",
            "Epoch: 149, Train loss: 0.3784 Train acc: 0.7164, Valid loss: 0.4534303843975067 Valid Acc: 0.7164\n",
            "Epoch: 150, Train loss: 0.3544 Train acc: 0.7166, Valid loss: 0.4590938985347748 Valid Acc: 0.7167\n",
            "Epoch: 151, Train loss: 0.3613 Train acc: 0.7170, Valid loss: 0.4644758403301239 Valid Acc: 0.7170\n",
            "Epoch: 152, Train loss: 0.3762 Train acc: 0.7171, Valid loss: 0.46193408966064453 Valid Acc: 0.7171\n",
            "Epoch: 153, Train loss: 0.3877 Train acc: 0.7173, Valid loss: 0.4362155497074127 Valid Acc: 0.7173\n",
            "Epoch: 154, Train loss: 0.3731 Train acc: 0.7175, Valid loss: 0.44691547751426697 Valid Acc: 0.7175\n",
            "Epoch: 155, Train loss: 0.3716 Train acc: 0.7177, Valid loss: 0.43843892216682434 Valid Acc: 0.7177\n",
            "Epoch: 156, Train loss: 0.3986 Train acc: 0.7178, Valid loss: 0.4623652994632721 Valid Acc: 0.7178\n",
            "Epoch: 157, Train loss: 0.3847 Train acc: 0.7180, Valid loss: 0.4582539200782776 Valid Acc: 0.7180\n",
            "Epoch: 158, Train loss: 0.4049 Train acc: 0.7181, Valid loss: 0.4753681719303131 Valid Acc: 0.7181\n",
            "Epoch: 159, Train loss: 0.3850 Train acc: 0.7183, Valid loss: 0.4919793903827667 Valid Acc: 0.7182\n",
            "Epoch: 160, Train loss: 0.3761 Train acc: 0.7184, Valid loss: 0.4356807470321655 Valid Acc: 0.7184\n",
            "Epoch: 161, Train loss: 0.3481 Train acc: 0.7186, Valid loss: 0.4481889605522156 Valid Acc: 0.7186\n",
            "Epoch: 162, Train loss: 0.3700 Train acc: 0.7189, Valid loss: 0.4727707803249359 Valid Acc: 0.7189\n",
            "Epoch: 163, Train loss: 0.3666 Train acc: 0.7190, Valid loss: 0.4581388831138611 Valid Acc: 0.7190\n",
            "Epoch: 164, Train loss: 0.3661 Train acc: 0.7192, Valid loss: 0.46695446968078613 Valid Acc: 0.7192\n",
            "Epoch: 165, Train loss: 0.3893 Train acc: 0.7194, Valid loss: 0.4408584237098694 Valid Acc: 0.7195\n",
            "Epoch: 166, Train loss: 0.3466 Train acc: 0.7197, Valid loss: 0.43840524554252625 Valid Acc: 0.7197\n",
            "Epoch: 167, Train loss: 0.3725 Train acc: 0.7199, Valid loss: 0.44215962290763855 Valid Acc: 0.7200\n",
            "Epoch: 168, Train loss: 0.3768 Train acc: 0.7202, Valid loss: 0.46636518836021423 Valid Acc: 0.7202\n",
            "Epoch: 169, Train loss: 0.3796 Train acc: 0.7205, Valid loss: 0.43943727016448975 Valid Acc: 0.7205\n",
            "Epoch: 170, Train loss: 0.3756 Train acc: 0.7207, Valid loss: 0.45461782813072205 Valid Acc: 0.7207\n",
            "Epoch: 171, Train loss: 0.3817 Train acc: 0.7208, Valid loss: 0.5288751125335693 Valid Acc: 0.7208\n",
            "Epoch: 172, Train loss: 0.3774 Train acc: 0.7209, Valid loss: 0.4581219255924225 Valid Acc: 0.7209\n",
            "Epoch: 173, Train loss: 0.3522 Train acc: 0.7209, Valid loss: 0.4586940407752991 Valid Acc: 0.7209\n",
            "Epoch: 174, Train loss: 0.3754 Train acc: 0.7211, Valid loss: 0.4698455035686493 Valid Acc: 0.7211\n",
            "Epoch: 175, Train loss: 0.3749 Train acc: 0.7211, Valid loss: 0.4472394287586212 Valid Acc: 0.7212\n",
            "Epoch: 176, Train loss: 0.3631 Train acc: 0.7214, Valid loss: 0.4663897454738617 Valid Acc: 0.7215\n",
            "Epoch: 177, Train loss: 0.3582 Train acc: 0.7215, Valid loss: 0.4647201597690582 Valid Acc: 0.7215\n",
            "Epoch: 178, Train loss: 0.3747 Train acc: 0.7216, Valid loss: 0.47220441699028015 Valid Acc: 0.7216\n",
            "Epoch: 179, Train loss: 0.3570 Train acc: 0.7218, Valid loss: 0.4700673520565033 Valid Acc: 0.7218\n",
            "Epoch: 180, Train loss: 0.3564 Train acc: 0.7220, Valid loss: 0.44616037607192993 Valid Acc: 0.7220\n",
            "Epoch: 181, Train loss: 0.3689 Train acc: 0.7223, Valid loss: 0.4799906015396118 Valid Acc: 0.7222\n",
            "Epoch: 182, Train loss: 0.3584 Train acc: 0.7223, Valid loss: 0.48154720664024353 Valid Acc: 0.7223\n",
            "Epoch: 183, Train loss: 0.3701 Train acc: 0.7224, Valid loss: 0.457996666431427 Valid Acc: 0.7224\n",
            "Epoch: 184, Train loss: 0.3851 Train acc: 0.7225, Valid loss: 0.46192044019699097 Valid Acc: 0.7225\n",
            "Epoch: 185, Train loss: 0.3656 Train acc: 0.7227, Valid loss: 0.45523884892463684 Valid Acc: 0.7228\n",
            "Epoch: 186, Train loss: 0.3622 Train acc: 0.7228, Valid loss: 0.4642467200756073 Valid Acc: 0.7228\n",
            "Epoch: 187, Train loss: 0.3617 Train acc: 0.7229, Valid loss: 0.48675858974456787 Valid Acc: 0.7229\n",
            "Epoch: 188, Train loss: 0.3427 Train acc: 0.7230, Valid loss: 0.4473041296005249 Valid Acc: 0.7230\n",
            "Epoch: 189, Train loss: 0.3424 Train acc: 0.7232, Valid loss: 0.4414052367210388 Valid Acc: 0.7233\n",
            "Epoch: 190, Train loss: 0.3679 Train acc: 0.7234, Valid loss: 0.4306826889514923 Valid Acc: 0.7234\n",
            "Epoch: 191, Train loss: 0.3437 Train acc: 0.7236, Valid loss: 0.4322166442871094 Valid Acc: 0.7236\n",
            "Epoch: 192, Train loss: 0.3579 Train acc: 0.7237, Valid loss: 0.44717925786972046 Valid Acc: 0.7237\n",
            "Epoch: 193, Train loss: 0.3676 Train acc: 0.7239, Valid loss: 0.4565410614013672 Valid Acc: 0.7239\n",
            "Epoch: 194, Train loss: 0.3570 Train acc: 0.7241, Valid loss: 0.46848466992378235 Valid Acc: 0.7242\n",
            "Epoch: 195, Train loss: 0.3579 Train acc: 0.7243, Valid loss: 0.4570557475090027 Valid Acc: 0.7243\n",
            "Epoch: 196, Train loss: 0.3788 Train acc: 0.7245, Valid loss: 0.4871191382408142 Valid Acc: 0.7245\n",
            "Epoch: 197, Train loss: 0.3776 Train acc: 0.7246, Valid loss: 0.5206031203269958 Valid Acc: 0.7246\n",
            "Epoch: 198, Train loss: 0.3766 Train acc: 0.7248, Valid loss: 0.45135778188705444 Valid Acc: 0.7248\n",
            "Epoch: 199, Train loss: 0.3423 Train acc: 0.7250, Valid loss: 0.43970558047294617 Valid Acc: 0.7251\n"
          ]
        }
      ],
      "source": [
        "train_losses_step = []\n",
        "train_losses = []\n",
        "valid_losses = []\n",
        "for epoch in range(N_EPOCHS):\n",
        "   \n",
        "  model.train() \n",
        "  train_loss_epoch = 0.\n",
        "  for x_b, y_b in train_dl:\n",
        "    \n",
        "    \n",
        " \n",
        "    \n",
        "\n",
        "    if torch.cuda.is_available():\n",
        "      x_b, y_b = x_b.cuda(), y_b.cuda().float()\n",
        "\n",
        "    opt.zero_grad()\n",
        "        # Forward Pass\n",
        "    logits = model(x_b)\n",
        "  \n",
        "    logits=logits.cuda().float()\n",
        "    \n",
        "        # Find the Loss\n",
        "    loss = loss_func(logits.squeeze(),y_b)\n",
        "        # Calculate gradients\n",
        "    loss.backward()\n",
        "        # Update Weights\n",
        "    opt.step()\n",
        "\n",
        "    batch_acc = metric(logits.cpu(), y_b.cpu().int())\n",
        "    train_loss_epoch += loss\n",
        "    train_losses_step.append(loss.item())\n",
        "\n",
        "  train_loss_epoch /= len(train_dl)\n",
        "  train_losses.append(train_loss_epoch.item())\n",
        "  train_acc = metric.compute()\n",
        "    \n",
        "    \n",
        "  model.eval() \n",
        "  val_loss_epoch = 0.\n",
        "  for x_b, y_b in valid_dl:\n",
        "    \n",
        "       \n",
        "        # Transfer Data to GPU if available\n",
        "    if torch.cuda.is_available():\n",
        "        x_b, y_b = x_b.cuda(), y_b.cuda().float()\n",
        "         \n",
        "        # Forward Pass\n",
        "    logits = model(x_b)\n",
        "    logits=logits.cuda().float()\n",
        "        # Find the Loss\n",
        "    loss = loss_func(logits.squeeze(),y_b)\n",
        "        # Calculate Loss\n",
        "    batch_acc_valid = metric(logits.cpu(), y_b.cpu().int())\n",
        "        \n",
        "  \n",
        "    val_loss_epoch += loss\n",
        "    \n",
        "  val_loss_epoch /= len(valid_dl)\n",
        "  valid_acc = metric.compute()\n",
        "  valid_losses.append(val_loss_epoch.item())\n",
        "\n",
        "  print(f\"Epoch: {epoch}, Train loss: {train_loss_epoch:.04f} Train acc: {float(train_acc):.04f}, Valid loss: {val_loss_epoch} Valid Acc: {float(valid_acc):.04f}\")"
      ]
    },
    {
      "cell_type": "code",
      "execution_count": null,
      "metadata": {
        "id": "mRrLm6iFTwNo"
      },
      "outputs": [],
      "source": [
        "input_tensor=torch.tensor(df_test.values,dtype=torch.float32)\n",
        "input_tensor=input_tensor.to(device)\n",
        "final=model(input_tensor)"
      ]
    },
    {
      "cell_type": "code",
      "execution_count": null,
      "metadata": {
        "id": "Op8f45yTUZXu"
      },
      "outputs": [],
      "source": [
        "\n",
        "pred = torch.argmax(final, dim=1)\n",
        "pred_numpy=pred.cpu().detach().numpy()"
      ]
    },
    {
      "cell_type": "code",
      "execution_count": null,
      "metadata": {
        "id": "B1Rwj3-OIWdC"
      },
      "outputs": [],
      "source": [
        "type(pred_numpy)"
      ]
    },
    {
      "cell_type": "code",
      "execution_count": null,
      "metadata": {
        "id": "ggIZGQd4Jd8n"
      },
      "outputs": [],
      "source": [
        "df_test=pd.read_csv('https://raw.githubusercontent.com/Chimamuelo/Coding-Nomads-Deep-Learning-1/master/Data/test.csv')\n",
        "idx=df_test['PassengerId']"
      ]
    },
    {
      "cell_type": "code",
      "execution_count": null,
      "metadata": {
        "id": "E0nBRrgiD81g"
      },
      "outputs": [],
      "source": [
        "final=pd.concat([idx,pd.DataFrame(data=pred_numpy,columns=['Survived'])],axis=1)\n",
        "#final=final['Survived'].astype(int)"
      ]
    },
    {
      "cell_type": "code",
      "execution_count": null,
      "metadata": {
        "id": "nT0oQKPqIxA8"
      },
      "outputs": [],
      "source": [
        "final"
      ]
    },
    {
      "cell_type": "code",
      "execution_count": null,
      "metadata": {
        "id": "3N2z9ycvIeAm"
      },
      "outputs": [],
      "source": [
        "final.to_csv('deep.csv',index=False)"
      ]
    },
    {
      "cell_type": "code",
      "execution_count": null,
      "metadata": {
        "id": "RQb7RbxBXofo"
      },
      "outputs": [],
      "source": [
        "fig, axes = plt.subplots(ncols=2, nrows=1, figsize=(20,8))\n",
        "ax1, ax2 = axes\n",
        "ax1.plot(train_losses_step, label='Train Loss')\n",
        "ax2.plot(train_losses, label='Train Loss')\n",
        "ax2.plot(valid_losses, label='Valid Loss')\n",
        "ax1.legend()\n",
        "ax2.legend()\n",
        "ax1.set_xlabel('Step')\n",
        "ax1.set_ylabel('Cross Entropy Loss')\n",
        "ax2.set_xlabel('Epoch')"
      ]
    },
    {
      "cell_type": "markdown",
      "metadata": {
        "id": "YUK7yRtEp2NA"
      },
      "source": [
        "# High-level libraries and tabular frameworks"
      ]
    },
    {
      "cell_type": "code",
      "execution_count": null,
      "metadata": {
        "id": "MZZBEen8qMYI"
      },
      "outputs": [],
      "source": [
        ""
      ]
    },
    {
      "cell_type": "markdown",
      "metadata": {
        "id": "Q_arrqLoqADy"
      },
      "source": [
        "# Model selection and test set evaluation"
      ]
    },
    {
      "cell_type": "code",
      "execution_count": null,
      "metadata": {
        "id": "A2qfdqQsqNfV"
      },
      "outputs": [],
      "source": [
        "# Your code here"
      ]
    },
    {
      "cell_type": "markdown",
      "metadata": {
        "id": "PHqN9LsZLpet"
      },
      "source": [
        "# Notes and findings\n",
        "\n",
        "What did you learn?"
      ]
    },
    {
      "cell_type": "code",
      "execution_count": null,
      "metadata": {
        "id": "MCPSeC8TIRTv"
      },
      "outputs": [],
      "source": [
        ""
      ]
    }
  ],
  "metadata": {
    "accelerator": "GPU",
    "colab": {
      "collapsed_sections": [],
      "name": "Titanic.ipynb",
      "provenance": []
    },
    "gpuClass": "standard",
    "kernelspec": {
      "display_name": "Python 3",
      "name": "python3"
    },
    "language_info": {
      "name": "python"
    }
  },
  "nbformat": 4,
  "nbformat_minor": 0
}